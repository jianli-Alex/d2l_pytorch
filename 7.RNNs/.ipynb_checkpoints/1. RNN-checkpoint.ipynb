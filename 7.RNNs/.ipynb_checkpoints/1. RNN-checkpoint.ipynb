{
 "cells": [
  {
   "cell_type": "code",
   "execution_count": 1,
   "metadata": {
    "ExecuteTime": {
     "end_time": "2020-10-24T06:44:06.908670Z",
     "start_time": "2020-10-24T06:44:06.889153Z"
    }
   },
   "outputs": [
    {
     "name": "stdout",
     "output_type": "stream",
     "text": [
      "Pretty printing has been turned OFF\n"
     ]
    }
   ],
   "source": [
    "%config ZMQInteractiveShell.ast_node_interactivity = \"all\"\n",
    "%pprint"
   ]
  },
  {
   "cell_type": "code",
   "execution_count": 55,
   "metadata": {
    "ExecuteTime": {
     "end_time": "2020-10-24T08:33:26.128356Z",
     "start_time": "2020-10-24T08:33:26.121929Z"
    }
   },
   "outputs": [],
   "source": [
    "import torch\n",
    "import zipfile\n",
    "import numpy as np"
   ]
  },
  {
   "cell_type": "markdown",
   "metadata": {},
   "source": [
    "## RNN "
   ]
  },
  {
   "cell_type": "markdown",
   "metadata": {},
   "source": [
    "相对于多层感知机和能够有效处理空间信息的CNN，RNN主要用于处理时序数据，它引入状态变量来存储过去的信息，并用其于当前的输入共同决定当前的输出"
   ]
  },
  {
   "cell_type": "markdown",
   "metadata": {
    "ExecuteTime": {
     "end_time": "2020-10-24T06:50:34.594726Z",
     "start_time": "2020-10-24T06:50:34.591690Z"
    }
   },
   "source": [
    "$$h_{t} = f(W_{hx}x_t + W_{hh}h_{t-1} + b_h)$$\n",
    "$$y_t = g(W_{yh}h_t + b_y)$$"
   ]
  },
  {
   "cell_type": "markdown",
   "metadata": {},
   "source": [
    "### 矩阵验证"
   ]
  },
  {
   "cell_type": "markdown",
   "metadata": {},
   "source": [
    "其实对于$W_{hx}, x_t, W_{hh}, h_{t-1}$，它们是可以不需要分开处理，只需将$x_t$和$h_{t-1}$按列合并，将$W_{xh}$和$W_{hh}$按行合并，并进行矩阵相乘，能获得一样的结果"
   ]
  },
  {
   "cell_type": "code",
   "execution_count": 5,
   "metadata": {
    "ExecuteTime": {
     "end_time": "2020-10-24T07:03:55.335484Z",
     "start_time": "2020-10-24T07:03:55.308437Z"
    }
   },
   "outputs": [
    {
     "data": {
      "text/plain": [
       "array([[0.91003804, 0.67964435, 0.86745817, 0.85528385],\n",
       "       [0.03252741, 0.94202509, 0.05789245, 0.45108028],\n",
       "       [1.2453132 , 0.19837032, 1.14747394, 1.16187938]])"
      ]
     },
     "execution_count": 5,
     "metadata": {},
     "output_type": "execute_result"
    }
   ],
   "source": [
    "# 假设xt-->(3, 1), W_hx--->(4, 3)，W_hh--->(4, 4), h_(t-1) ---> (3, 4)\n",
    "xt = np.random.rand(3, 1)\n",
    "w_hx = np.random.rand(1, 4)\n",
    "w_hh = np.random.rand(4, 4)\n",
    "h_t_1 = np.random.randn(3, 4)\n",
    "\n",
    "h_t = xt@w_hx + h_t_1@w_hh\n",
    "h_t "
   ]
  },
  {
   "cell_type": "code",
   "execution_count": 6,
   "metadata": {
    "ExecuteTime": {
     "end_time": "2020-10-24T07:05:05.418161Z",
     "start_time": "2020-10-24T07:05:05.404235Z"
    }
   },
   "outputs": [
    {
     "data": {
      "text/plain": [
       "array([[0.91003804, 0.67964435, 0.86745817, 0.85528385],\n",
       "       [0.03252741, 0.94202509, 0.05789245, 0.45108028],\n",
       "       [1.2453132 , 0.19837032, 1.14747394, 1.16187938]])"
      ]
     },
     "execution_count": 6,
     "metadata": {},
     "output_type": "execute_result"
    }
   ],
   "source": [
    "h_t = np.hstack((xt, h_t_1)) @ np.vstack((w_hx, w_hh))\n",
    "h_t"
   ]
  },
  {
   "cell_type": "markdown",
   "metadata": {},
   "source": [
    "### 创建token映射"
   ]
  },
  {
   "cell_type": "markdown",
   "metadata": {
    "ExecuteTime": {
     "end_time": "2020-10-24T07:07:44.983347Z",
     "start_time": "2020-10-24T07:07:44.973007Z"
    }
   },
   "source": [
    "使用周杰伦歌词来建模，并对周杰伦歌词进行预处理"
   ]
  },
  {
   "cell_type": "code",
   "execution_count": 27,
   "metadata": {
    "ExecuteTime": {
     "end_time": "2020-10-24T07:28:05.377820Z",
     "start_time": "2020-10-24T07:28:05.355759Z"
    }
   },
   "outputs": [
    {
     "data": {
      "text/plain": [
       "'想要有直升机\\n想要和你飞到宇宙去\\n想要和你融化在一起\\n融化在宇宙里\\n我每天每天每天在想想想想著你\\n这样的甜蜜\\n让我开始乡相信命运\\n感谢地心引力\\n让我碰到你\\n漂亮的让我面红的可爱女人\\n温柔的让我心疼的可'"
      ]
     },
     "execution_count": 27,
     "metadata": {},
     "output_type": "execute_result"
    },
    {
     "data": {
      "text/plain": [
       "63282"
      ]
     },
     "execution_count": 27,
     "metadata": {},
     "output_type": "execute_result"
    }
   ],
   "source": [
    "# f.read是读取整个文件数据字符串，f.readline是读取一行数据，f.readlines是读取一个数据列表\n",
    "with zipfile.ZipFile(\"../data/jaychou_lyrics.txt.zip\") as zfile:\n",
    "    with zfile.open(\"jaychou_lyrics.txt\", \"r\") as f:\n",
    "        corpus_chars = f.read().decode(\"utf-8\")\n",
    "        \n",
    "# 看一下数据长什么样\n",
    "corpus_chars[:100]\n",
    "len(corpus_chars)"
   ]
  },
  {
   "cell_type": "markdown",
   "metadata": {},
   "source": [
    "整个数据集中有63282条数据，为了打印方便，将换行符来替换空格"
   ]
  },
  {
   "cell_type": "code",
   "execution_count": 33,
   "metadata": {
    "ExecuteTime": {
     "end_time": "2020-10-24T07:33:10.988993Z",
     "start_time": "2020-10-24T07:33:10.972554Z"
    }
   },
   "outputs": [
    {
     "data": {
      "text/plain": [
       "5819"
      ]
     },
     "execution_count": 33,
     "metadata": {},
     "output_type": "execute_result"
    },
    {
     "data": {
      "text/plain": [
       "0"
      ]
     },
     "execution_count": 33,
     "metadata": {},
     "output_type": "execute_result"
    }
   ],
   "source": [
    "corpus_chars.count(\"\\n\")\n",
    "corpus_chars.count(\"\\r\")\n",
    "corpus_chars = corpus_chars.replace(\"\\n\", \" \")"
   ]
  },
  {
   "cell_type": "code",
   "execution_count": 50,
   "metadata": {
    "ExecuteTime": {
     "end_time": "2020-10-24T07:50:04.310001Z",
     "start_time": "2020-10-24T07:50:04.299085Z"
    }
   },
   "outputs": [],
   "source": [
    "def load_data_jay_song(corpus_chars):\n",
    "    # the vocab set of data\n",
    "    vocab_set = list(set(corpus_chars))\n",
    "    # corpus char --> id: dict\n",
    "    char_to_idx = {char:i for i, char in enumerate(vocab_set)}\n",
    "    # the index of data\n",
    "    corpus_index = [char_to_idx[char] for char in corpus_chars]\n",
    "    # the length of vocab set\n",
    "    vocab_size = len(char_to_idx)\n",
    "                        \n",
    "    return corpus_index, char_to_idx, vocab_set, vocab_size"
   ]
  },
  {
   "cell_type": "code",
   "execution_count": 51,
   "metadata": {
    "ExecuteTime": {
     "end_time": "2020-10-24T07:50:33.744160Z",
     "start_time": "2020-10-24T07:50:33.709191Z"
    }
   },
   "outputs": [],
   "source": [
    "corpus_index, char_to_idx, vocab_set, vocab_size = load_data_jay_song(corpus_chars)"
   ]
  },
  {
   "cell_type": "markdown",
   "metadata": {},
   "source": [
    "### 时序数据采样"
   ]
  },
  {
   "cell_type": "markdown",
   "metadata": {},
   "source": [
    "在训练中我们每次需要随机读取小批量样本和标签，时序数据的一个样本通常包含连续字符\n",
    "- 如果time-step=5的时候，就是输入的样本序列为5个字符（你-今-天-吃-了），标签中的每一个字符就是对应训练集中的下一个字符（今-天-吃-了-吗）\n",
    "- 对时序数据的采样方式有两种，一个是随机采样，另外一种就是相邻采样"
   ]
  },
  {
   "cell_type": "markdown",
   "metadata": {},
   "source": [
    "#### 随机采样"
   ]
  },
  {
   "cell_type": "markdown",
   "metadata": {},
   "source": [
    "在随机采样中，每个样本是原始序列中任意截取的一段序列，相邻的两个随机小批量在原始序列中的位置不一定相毗邻\n",
    "- 因此，我们不能用前一个小批量最后time_step的隐藏状态来初始化下一个小批量的隐藏状态\n",
    "- 在训练模型的时候，如果使用随机采样，那么在每次随机采样之前都要重新初始化隐藏状态"
   ]
  },
  {
   "cell_type": "code",
   "execution_count": 71,
   "metadata": {
    "ExecuteTime": {
     "end_time": "2020-10-24T09:27:00.664209Z",
     "start_time": "2020-10-24T09:27:00.661843Z"
    }
   },
   "outputs": [],
   "source": [
    "import random"
   ]
  },
  {
   "cell_type": "code",
   "execution_count": 74,
   "metadata": {
    "ExecuteTime": {
     "end_time": "2020-10-24T09:53:50.714824Z",
     "start_time": "2020-10-24T09:53:50.708197Z"
    }
   },
   "outputs": [],
   "source": [
    "def data_iter_random(corpus_indices, batch_size, num_steps):\n",
    "    num_examples = (len(corpus_indices) - 1) // num_steps\n",
    "    print(num_examples)\n",
    "    epoch_size = num_examples // batch_size\n",
    "    example_indices = list(range(num_examples))\n",
    "    random.shuffle(example_indices)\n",
    "    \n",
    "    def _data(pos):\n",
    "        return corpus_indices[pos: pos + num_steps]\n",
    "        \n",
    "    for i in range(epoch_size):\n",
    "        i = i * batch_size\n",
    "        batch_indices = example_indices[i: i + batch_size]\n",
    "        x = [_data(j * num_steps) for j in batch_indices]\n",
    "        y = [_data(j * num_steps) for j in batch_indices]\n",
    "        yield torch.tensor(x, dtype=torch.float32), torch.tensor(y, dtype=torch.float32)"
   ]
  },
  {
   "cell_type": "code",
   "execution_count": 76,
   "metadata": {
    "ExecuteTime": {
     "end_time": "2020-10-24T09:55:10.898641Z",
     "start_time": "2020-10-24T09:55:10.889170Z"
    }
   },
   "outputs": [
    {
     "name": "stdout",
     "output_type": "stream",
     "text": [
      "5\n",
      "tensor([[20., 21., 22., 23., 24.],\n",
      "        [ 5.,  6.,  7.,  8.,  9.]])\n",
      "tensor([[20., 21., 22., 23., 24.],\n",
      "        [ 5.,  6.,  7.,  8.,  9.]])\n",
      "\n",
      "\n",
      "tensor([[15., 16., 17., 18., 19.],\n",
      "        [10., 11., 12., 13., 14.]])\n",
      "tensor([[15., 16., 17., 18., 19.],\n",
      "        [10., 11., 12., 13., 14.]])\n",
      "\n",
      "\n"
     ]
    }
   ],
   "source": [
    "my_seq = list(range(30))\n",
    "for x, y in data_iter_random(my_seq, batch_size=2, num_steps=5):\n",
    "    print(x)\n",
    "    print(y)\n",
    "    print(\"\\n\")"
   ]
  },
  {
   "cell_type": "code",
   "execution_count": null,
   "metadata": {},
   "outputs": [],
   "source": [
    "def train_iter_random(corpus, batch_size, num_steps):\n",
    "    \"\"\"\n",
    "    function: randomly sample data to rnn model\n",
    "    params corpus: the data of corpus you want to sample \n",
    "    params batch_size: the batch_size of sample\n",
    "    params num_steps: the max time step in rnn model\n",
    "    \"\"\"\n",
    "    # calculate the example number depend on num_steps\n",
    "    example_num = len(corpus) / num_steps\n",
    "    index = np.arange(0, len(corpus), split_num)\n",
    "    np.random.shuffle(index)\n",
    "    # calculate the number of batch depend on batch_size\n",
    "    batch_num = int(np.ceil(split_num) / batch_size)\n",
    "    \n",
    "    for num in "
   ]
  }
 ],
 "metadata": {
  "kernelspec": {
   "display_name": "Python 3",
   "language": "python",
   "name": "python3"
  },
  "language_info": {
   "codemirror_mode": {
    "name": "ipython",
    "version": 3
   },
   "file_extension": ".py",
   "mimetype": "text/x-python",
   "name": "python",
   "nbconvert_exporter": "python",
   "pygments_lexer": "ipython3",
   "version": "3.8.3"
  },
  "toc": {
   "base_numbering": 1,
   "nav_menu": {},
   "number_sections": true,
   "sideBar": true,
   "skip_h1_title": false,
   "title_cell": "Table of Contents",
   "title_sidebar": "Contents",
   "toc_cell": false,
   "toc_position": {},
   "toc_section_display": true,
   "toc_window_display": false
  }
 },
 "nbformat": 4,
 "nbformat_minor": 4
}
