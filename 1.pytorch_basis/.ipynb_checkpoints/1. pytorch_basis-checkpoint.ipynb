{
 "cells": [
  {
   "cell_type": "code",
   "execution_count": 1,
   "metadata": {
    "ExecuteTime": {
     "end_time": "2020-09-26T23:52:49.953324Z",
     "start_time": "2020-09-26T23:52:49.938397Z"
    }
   },
   "outputs": [
    {
     "name": "stdout",
     "output_type": "stream",
     "text": [
      "Pretty printing has been turned OFF\n"
     ]
    }
   ],
   "source": [
    "%config InteractiveShell.ast_node_interactivity = \"all\"\n",
    "%pprint"
   ]
  },
  {
   "cell_type": "markdown",
   "metadata": {},
   "source": [
    "# pytorch and numpy"
   ]
  },
  {
   "cell_type": "code",
   "execution_count": 2,
   "metadata": {
    "ExecuteTime": {
     "end_time": "2020-09-26T23:52:51.237686Z",
     "start_time": "2020-09-26T23:52:50.780225Z"
    }
   },
   "outputs": [],
   "source": [
    "import torch\n",
    "import numpy as np"
   ]
  },
  {
   "cell_type": "markdown",
   "metadata": {},
   "source": [
    "## tensor and ndarray"
   ]
  },
  {
   "cell_type": "code",
   "execution_count": 3,
   "metadata": {
    "ExecuteTime": {
     "end_time": "2020-09-26T23:52:51.363946Z",
     "start_time": "2020-09-26T23:52:51.360198Z"
    }
   },
   "outputs": [],
   "source": [
    "# 创建一个numpy ndarray\n",
    "np_array = np.random.randn(10, 20)"
   ]
  },
  {
   "cell_type": "code",
   "execution_count": 4,
   "metadata": {
    "ExecuteTime": {
     "end_time": "2020-09-26T23:52:51.625483Z",
     "start_time": "2020-09-26T23:52:51.620133Z"
    }
   },
   "outputs": [],
   "source": [
    "# 将numpy的ndarray转为tensor上\n",
    "# .numpy()是用于tensor转numpy，.from_numpy是用于numpy转tensor\n",
    "tensor1 = torch.tensor(np_array)\n",
    "tensor2 = torch.from_numpy(np_array)"
   ]
  },
  {
   "cell_type": "code",
   "execution_count": 5,
   "metadata": {
    "ExecuteTime": {
     "end_time": "2020-09-26T23:52:51.796624Z",
     "start_time": "2020-09-26T23:52:51.794342Z"
    }
   },
   "outputs": [],
   "source": [
    "# 把tensor转为ndarray，cpu的场景\n",
    "np_array = tensor1.numpy()\n",
    "# 把tensor转为ndarray，gpu的场景\n",
    "# GPU的tensor不能直接转为ndarray。需要用.cpu()将GPU上的tensor转到CPU上\n",
    "# np_array = tensor2.cpu().numpy()"
   ]
  },
  {
   "cell_type": "markdown",
   "metadata": {},
   "source": [
    "## tensor的gpu加速"
   ]
  },
  {
   "cell_type": "code",
   "execution_count": 6,
   "metadata": {
    "ExecuteTime": {
     "end_time": "2020-09-26T23:52:54.250946Z",
     "start_time": "2020-09-26T23:52:52.380347Z"
    }
   },
   "outputs": [],
   "source": [
    "# tensor使用gpu加速\n",
    "# 第一种方式是定义cuda数据类型\n",
    "# 速度要比直接使用cuda()慢很多\n",
    "dtype = torch.cuda.FloatTensor\n",
    "gpu_tensor = torch.randn(10, 20).type(dtype)\n",
    "\n",
    "# 第二种方式（更简单）\n",
    "gpu_tensor = torch.randn(10, 20).cuda()\n",
    "# 如果有多块gpu的时候，分别指定0，1"
   ]
  },
  {
   "cell_type": "code",
   "execution_count": 7,
   "metadata": {
    "ExecuteTime": {
     "end_time": "2020-09-26T23:52:54.254455Z",
     "start_time": "2020-09-26T23:52:54.252421Z"
    }
   },
   "outputs": [],
   "source": [
    "# 将tensor放回给cpu\n",
    "cpu_tensor = gpu_tensor.cpu()"
   ]
  },
  {
   "cell_type": "markdown",
   "metadata": {},
   "source": [
    "## tensor的属性"
   ]
  },
  {
   "cell_type": "markdown",
   "metadata": {},
   "source": [
    "- torch的shape和size都是查看tensor的形状，使用numel来查看元素的个数\n",
    "- numpy的shape查看的是ndarray的形状，size查看的是ndarray元素的总数，itemsize查看的是ndarray单个元素的大小"
   ]
  },
  {
   "cell_type": "code",
   "execution_count": 8,
   "metadata": {
    "ExecuteTime": {
     "end_time": "2020-09-26T23:52:54.326393Z",
     "start_time": "2020-09-26T23:52:54.317614Z"
    }
   },
   "outputs": [
    {
     "data": {
      "text/plain": [
       "torch.Size([10, 20])"
      ]
     },
     "execution_count": 8,
     "metadata": {},
     "output_type": "execute_result"
    },
    {
     "data": {
      "text/plain": [
       "torch.Size([10, 20])"
      ]
     },
     "execution_count": 8,
     "metadata": {},
     "output_type": "execute_result"
    }
   ],
   "source": [
    "# 查看tensor的形状\n",
    "tensor1.shape\n",
    "tensor2.size()"
   ]
  },
  {
   "cell_type": "code",
   "execution_count": 20,
   "metadata": {
    "ExecuteTime": {
     "end_time": "2019-12-10T15:44:20.179702Z",
     "start_time": "2019-12-10T15:44:20.169711Z"
    }
   },
   "outputs": [
    {
     "data": {
      "text/plain": [
       "'torch.DoubleTensor'"
      ]
     },
     "execution_count": 20,
     "metadata": {},
     "output_type": "execute_result"
    },
    {
     "data": {
      "text/plain": [
       "'torch.DoubleTensor'"
      ]
     },
     "execution_count": 20,
     "metadata": {},
     "output_type": "execute_result"
    }
   ],
   "source": [
    "# 查看tensor的数据类型\n",
    "tensor1.type()\n",
    "tensor2.type()"
   ]
  },
  {
   "cell_type": "code",
   "execution_count": 9,
   "metadata": {
    "ExecuteTime": {
     "end_time": "2020-09-26T23:53:03.794045Z",
     "start_time": "2020-09-26T23:53:03.789467Z"
    }
   },
   "outputs": [
    {
     "data": {
      "text/plain": [
       "2"
      ]
     },
     "execution_count": 9,
     "metadata": {},
     "output_type": "execute_result"
    },
    {
     "data": {
      "text/plain": [
       "2"
      ]
     },
     "execution_count": 9,
     "metadata": {},
     "output_type": "execute_result"
    }
   ],
   "source": [
    "# 查看tensor的维度\n",
    "tensor1.dim()\n",
    "tensor1.ndim"
   ]
  },
  {
   "cell_type": "code",
   "execution_count": 10,
   "metadata": {
    "ExecuteTime": {
     "end_time": "2020-09-26T23:53:04.512515Z",
     "start_time": "2020-09-26T23:53:04.509632Z"
    }
   },
   "outputs": [
    {
     "data": {
      "text/plain": [
       "200"
      ]
     },
     "execution_count": 10,
     "metadata": {},
     "output_type": "execute_result"
    }
   ],
   "source": [
    "# 查看tensor的所有元素个数\n",
    "tensor1.numel()"
   ]
  },
  {
   "cell_type": "markdown",
   "metadata": {},
   "source": [
    "## 示例"
   ]
  },
  {
   "cell_type": "code",
   "execution_count": 11,
   "metadata": {
    "ExecuteTime": {
     "end_time": "2020-09-26T23:53:05.992701Z",
     "start_time": "2020-09-26T23:53:05.984702Z"
    }
   },
   "outputs": [
    {
     "name": "stdout",
     "output_type": "stream",
     "text": [
      "float64\n",
      "can't convert cuda:0 device type tensor to numpy. Use Tensor.cpu() to copy the tensor to host memory first.\n"
     ]
    }
   ],
   "source": [
    "# 创建一个3*2, floaat64, 随机初始化的tensor\n",
    "tensor3 = torch.randn((3,2))\n",
    "tensor3 = tensor3.type(torch.DoubleTensor)\n",
    "# 转化为numpy的ndarray\n",
    "# 只有torch.cpu才能转为numpy，在cuda中的tensor直接转为numpy会报错\n",
    "np_array2 = tensor3.numpy()\n",
    "# 输出它的类型\n",
    "print(np_array.dtype)\n",
    "\n",
    "try:\n",
    "    a = torch.randn(2, 3).type(torch.cuda.DoubleTensor)\n",
    "    b = a.numpy()\n",
    "except Exception as e:\n",
    "    print(e)"
   ]
  },
  {
   "cell_type": "markdown",
   "metadata": {},
   "source": [
    "# tensor操作"
   ]
  },
  {
   "cell_type": "markdown",
   "metadata": {},
   "source": [
    "在`pytorch`中，`torch.Tensor`是存储和变换数据的主要工具，`Tensor`和`Numpy`十分的相似，但是`Tensor`提供了GPU计算，自动求梯度等功能"
   ]
  },
  {
   "cell_type": "markdown",
   "metadata": {},
   "source": [
    "通常来说，标量为0维张量，向量为1维张量，矩阵为2维张量，张量可以看成是多维数组"
   ]
  },
  {
   "cell_type": "markdown",
   "metadata": {
    "ExecuteTime": {
     "end_time": "2020-06-07T08:45:57.742912Z",
     "start_time": "2020-06-07T08:45:57.738933Z"
    }
   },
   "source": [
    "- tensor在创建时，都能指定数据类型dtype以及存放的device(gpu/cpu)\n",
    "- numpy可以指定数据类型dtype"
   ]
  },
  {
   "cell_type": "markdown",
   "metadata": {},
   "source": [
    "## tensor生成"
   ]
  },
  {
   "cell_type": "code",
   "execution_count": 2,
   "metadata": {
    "ExecuteTime": {
     "end_time": "2020-09-10T23:39:07.813172Z",
     "start_time": "2020-09-10T23:39:07.470593Z"
    }
   },
   "outputs": [],
   "source": [
    "import torch\n",
    "import numpy as np"
   ]
  },
  {
   "cell_type": "markdown",
   "metadata": {},
   "source": [
    "### 初始化"
   ]
  },
  {
   "cell_type": "code",
   "execution_count": 2,
   "metadata": {
    "ExecuteTime": {
     "end_time": "2020-09-10T08:51:18.508660Z",
     "start_time": "2020-09-10T08:51:18.502449Z"
    }
   },
   "outputs": [
    {
     "name": "stdout",
     "output_type": "stream",
     "text": [
      "tensor([[-5.8896e-02,  4.5778e-41, -5.8896e-02],\n",
      "        [ 4.5778e-41, -3.5699e-05,  4.5778e-41],\n",
      "        [-3.4316e-05,  4.5778e-41, -3.5700e-05],\n",
      "        [ 4.5778e-41, -3.4332e-05,  4.5778e-41],\n",
      "        [-3.5701e-05,  4.5778e-41, -3.4333e-05]])\n",
      "[[4.65019773e-310 4.57776182e-041 5.88964820e-002]\n",
      " [4.57776182e-041 3.56993405e-005 4.57776182e-041]\n",
      " [3.43156862e-005 4.57776182e-041 3.56999808e-005]\n",
      " [4.57776182e-041 3.43324500e-005 4.57776182e-041]\n",
      " [3.57006211e-005 4.57776182e-041 3.43327411e-005]]\n"
     ]
    }
   ],
   "source": [
    "# 创建一个5*3的未初始化的tensor\n",
    "# 直接使用size，或者传入一个矩阵都可以\n",
    "x = torch.empty(5, 3)\n",
    "# x = torch.empty([5, 3])\n",
    "print(x)\n",
    "\n",
    "# numpy必须传入一个矩阵\n",
    "y = np.empty([5, 3])\n",
    "print(y)"
   ]
  },
  {
   "cell_type": "code",
   "execution_count": 3,
   "metadata": {
    "ExecuteTime": {
     "end_time": "2020-09-10T08:52:07.609727Z",
     "start_time": "2020-09-10T08:52:07.602581Z"
    }
   },
   "outputs": [
    {
     "name": "stdout",
     "output_type": "stream",
     "text": [
      "tensor([[0.2272, 0.7953, 0.9195],\n",
      "        [0.4068, 0.5822, 0.8832],\n",
      "        [0.9784, 0.3799, 0.2858],\n",
      "        [0.4604, 0.4508, 0.4809],\n",
      "        [0.8600, 0.9476, 0.2283]])\n",
      "[[0.00435561 0.29190944 0.1410968 ]\n",
      " [0.38631667 0.0961483  0.31875233]\n",
      " [0.27504382 0.9368293  0.73084801]\n",
      " [0.35092112 0.04630098 0.54524366]\n",
      " [0.43434029 0.70826866 0.48884946]]\n",
      "tensor([[ 0.3488, -0.4392, -0.1135],\n",
      "        [ 0.5670, -1.4699,  0.0351],\n",
      "        [-0.0612, -0.2779,  2.4606],\n",
      "        [ 1.0750,  1.7528, -1.0395],\n",
      "        [ 0.9973,  0.5591, -0.9469]])\n",
      "[[-1.49644565 -1.33288698 -0.11941058]\n",
      " [-0.15902221 -1.31871241 -0.0892219 ]\n",
      " [ 0.45625117 -0.55385878 -1.59481235]\n",
      " [-1.24324017 -0.0780413  -0.19712814]\n",
      " [-1.75656008 -1.31014331 -0.1143888 ]]\n"
     ]
    }
   ],
   "source": [
    "# 随机初始化一个tensor\n",
    "# rand为0-1的均匀分布\n",
    "x = torch.rand(5, 3)\n",
    "print(x)\n",
    "y = np.random.rand(5, 3)\n",
    "print(y)\n",
    "\n",
    "# randn为标准正态分布\n",
    "x = torch.randn(5, 3)\n",
    "print(x)\n",
    "y = np.random.randn(5, 3)\n",
    "print(y)"
   ]
  },
  {
   "cell_type": "markdown",
   "metadata": {},
   "source": [
    "### 通过dtype指代数据属性"
   ]
  },
  {
   "cell_type": "markdown",
   "metadata": {},
   "source": [
    "对于ones/zeros/eyes/rand(np在random模块中使用)之类的，torch, 不指定dtype，默认为float32, numpy默认为float64"
   ]
  },
  {
   "cell_type": "markdown",
   "metadata": {},
   "source": [
    "####  数据类型"
   ]
  },
  {
   "cell_type": "code",
   "execution_count": 20,
   "metadata": {
    "ExecuteTime": {
     "end_time": "2020-06-06T11:44:29.663594Z",
     "start_time": "2020-06-06T11:44:29.633932Z"
    }
   },
   "outputs": [
    {
     "data": {
      "text/plain": [
       "torch.int8"
      ]
     },
     "execution_count": 20,
     "metadata": {},
     "output_type": "execute_result"
    },
    {
     "data": {
      "text/plain": [
       "<class 'numpy.int8'>"
      ]
     },
     "execution_count": 20,
     "metadata": {},
     "output_type": "execute_result"
    },
    {
     "data": {
      "text/plain": [
       "torch.int16"
      ]
     },
     "execution_count": 20,
     "metadata": {},
     "output_type": "execute_result"
    },
    {
     "data": {
      "text/plain": [
       "<class 'numpy.int16'>"
      ]
     },
     "execution_count": 20,
     "metadata": {},
     "output_type": "execute_result"
    },
    {
     "data": {
      "text/plain": [
       "torch.int16"
      ]
     },
     "execution_count": 20,
     "metadata": {},
     "output_type": "execute_result"
    },
    {
     "data": {
      "text/plain": [
       "<class 'numpy.int16'>"
      ]
     },
     "execution_count": 20,
     "metadata": {},
     "output_type": "execute_result"
    },
    {
     "data": {
      "text/plain": [
       "torch.int32"
      ]
     },
     "execution_count": 20,
     "metadata": {},
     "output_type": "execute_result"
    },
    {
     "data": {
      "text/plain": [
       "<class 'int'>"
      ]
     },
     "execution_count": 20,
     "metadata": {},
     "output_type": "execute_result"
    },
    {
     "data": {
      "text/plain": [
       "torch.int32"
      ]
     },
     "execution_count": 20,
     "metadata": {},
     "output_type": "execute_result"
    },
    {
     "data": {
      "text/plain": [
       "<class 'numpy.int32'>"
      ]
     },
     "execution_count": 20,
     "metadata": {},
     "output_type": "execute_result"
    },
    {
     "data": {
      "text/plain": [
       "torch.int64"
      ]
     },
     "execution_count": 20,
     "metadata": {},
     "output_type": "execute_result"
    },
    {
     "data": {
      "text/plain": [
       "<class 'numpy.int64'>"
      ]
     },
     "execution_count": 20,
     "metadata": {},
     "output_type": "execute_result"
    },
    {
     "data": {
      "text/plain": [
       "torch.int64"
      ]
     },
     "execution_count": 20,
     "metadata": {},
     "output_type": "execute_result"
    },
    {
     "data": {
      "text/plain": [
       "<class 'int'>"
      ]
     },
     "execution_count": 20,
     "metadata": {},
     "output_type": "execute_result"
    }
   ],
   "source": [
    "# 整数---int/short/long\n",
    "torch.int8\n",
    "np.int8\n",
    "\n",
    "# 都代表int16\n",
    "torch.short\n",
    "np.short\n",
    "torch.int16\n",
    "np.int16\n",
    "\n",
    "# 都代表int32\n",
    "torch.int\n",
    "# np.int\n",
    "torch.int32\n",
    "np.int32\n",
    "\n",
    "# 都代表int64\n",
    "torch.int64\n",
    "np.int64\n",
    "torch.long\n",
    "# numpy的long其实就是int64\n",
    "# np.long"
   ]
  },
  {
   "cell_type": "code",
   "execution_count": 10,
   "metadata": {
    "ExecuteTime": {
     "end_time": "2020-06-07T07:33:46.869063Z",
     "start_time": "2020-06-07T07:33:46.848447Z"
    }
   },
   "outputs": [
    {
     "data": {
      "text/plain": [
       "torch.float16"
      ]
     },
     "execution_count": 10,
     "metadata": {},
     "output_type": "execute_result"
    },
    {
     "data": {
      "text/plain": [
       "<class 'numpy.float16'>"
      ]
     },
     "execution_count": 10,
     "metadata": {},
     "output_type": "execute_result"
    },
    {
     "data": {
      "text/plain": [
       "torch.float32"
      ]
     },
     "execution_count": 10,
     "metadata": {},
     "output_type": "execute_result"
    },
    {
     "data": {
      "text/plain": [
       "torch.float32"
      ]
     },
     "execution_count": 10,
     "metadata": {},
     "output_type": "execute_result"
    },
    {
     "data": {
      "text/plain": [
       "<class 'numpy.float32'>"
      ]
     },
     "execution_count": 10,
     "metadata": {},
     "output_type": "execute_result"
    },
    {
     "data": {
      "text/plain": [
       "torch.float64"
      ]
     },
     "execution_count": 10,
     "metadata": {},
     "output_type": "execute_result"
    },
    {
     "data": {
      "text/plain": [
       "torch.float64"
      ]
     },
     "execution_count": 10,
     "metadata": {},
     "output_type": "execute_result"
    },
    {
     "data": {
      "text/plain": [
       "<class 'numpy.float64'>"
      ]
     },
     "execution_count": 10,
     "metadata": {},
     "output_type": "execute_result"
    },
    {
     "data": {
      "text/plain": [
       "<class 'numpy.float64'>"
      ]
     },
     "execution_count": 10,
     "metadata": {},
     "output_type": "execute_result"
    }
   ],
   "source": [
    "# 浮点数---float，默认float32\n",
    "torch.float16\n",
    "np.float16\n",
    "\n",
    "# 都代表float32\n",
    "torch.float\n",
    "torch.float32\n",
    "np.float32\n",
    "\n",
    "torch.float64\n",
    "torch.double\n",
    "np.float64\n",
    "np.double"
   ]
  },
  {
   "cell_type": "markdown",
   "metadata": {},
   "source": [
    "#### 生成全为0的tensor"
   ]
  },
  {
   "cell_type": "code",
   "execution_count": 5,
   "metadata": {
    "ExecuteTime": {
     "end_time": "2020-09-10T08:54:47.246596Z",
     "start_time": "2020-09-10T08:54:47.222852Z"
    }
   },
   "outputs": [
    {
     "name": "stdout",
     "output_type": "stream",
     "text": [
      "tensor([[0., 0., 0.],\n",
      "        [0., 0., 0.],\n",
      "        [0., 0., 0.],\n",
      "        [0., 0., 0.],\n",
      "        [0., 0., 0.]])\n",
      "torch.float32\n",
      "[[0. 0. 0.]\n",
      " [0. 0. 0.]\n",
      " [0. 0. 0.]\n",
      " [0. 0. 0.]\n",
      " [0. 0. 0.]] float64\n",
      "tensor([[0, 0, 0],\n",
      "        [0, 0, 0],\n",
      "        [0, 0, 0],\n",
      "        [0, 0, 0],\n",
      "        [0, 0, 0]])\n",
      "torch.int64\n",
      "tensor([[0, 0, 0],\n",
      "        [0, 0, 0],\n",
      "        [0, 0, 0],\n",
      "        [0, 0, 0],\n",
      "        [0, 0, 0]]) torch.int64\n"
     ]
    }
   ],
   "source": [
    "x = torch.zeros(5, 3)\n",
    "print(x)\n",
    "print(x.dtype)\n",
    "y = np.zeros([5, 3])\n",
    "print(y, y.dtype)\n",
    "\n",
    "# long为int64\n",
    "x = torch.zeros(5, 3, dtype = torch.long)\n",
    "print(x)\n",
    "print(x.dtype)\n",
    "y = torch.zeros([5, 3], dtype = np.long)\n",
    "print(y, y.dtype)"
   ]
  },
  {
   "cell_type": "code",
   "execution_count": 44,
   "metadata": {
    "ExecuteTime": {
     "end_time": "2020-06-06T12:34:02.453004Z",
     "start_time": "2020-06-06T12:34:02.445753Z"
    }
   },
   "outputs": [
    {
     "name": "stdout",
     "output_type": "stream",
     "text": [
      "tensor([[0., 0., 0.],\n",
      "        [0., 0., 0.],\n",
      "        [0., 0., 0.],\n",
      "        [0., 0., 0.],\n",
      "        [0., 0., 0.]], dtype=torch.float64)\n"
     ]
    }
   ],
   "source": [
    "# 使用new_xxx也能生成相应的tensor\n",
    "\n",
    "x = x.new_zeros(5, 3, dtype = torch.float64)\n",
    "print(x)"
   ]
  },
  {
   "cell_type": "markdown",
   "metadata": {},
   "source": [
    "### 根据数据创建tensor(ndarray-->tensor)"
   ]
  },
  {
   "cell_type": "markdown",
   "metadata": {},
   "source": [
    "接收的必须是列表或者ndarray，不能只用size\n",
    "- 需要开辟新的内存空间，改变tensor不影响ndarray\n",
    "- 速度更加慢\n",
    "\n",
    "使用from_numpy()直接将ndarray转成tensor，速度更快，共享空间\n",
    "- 改变tensor会影响ndarray"
   ]
  },
  {
   "cell_type": "code",
   "execution_count": 6,
   "metadata": {
    "ExecuteTime": {
     "end_time": "2020-09-10T08:58:46.791600Z",
     "start_time": "2020-09-10T08:58:46.779320Z"
    }
   },
   "outputs": [
    {
     "name": "stdout",
     "output_type": "stream",
     "text": [
      "tensor([2, 3])\n",
      "[2 5 2]\n",
      "tensor([5.5000, 3.0000])\n",
      "torch.float32\n"
     ]
    }
   ],
   "source": [
    "# 生成张量\n",
    "x = torch.tensor([2,3])\n",
    "# 生成数组\n",
    "y = np.array([2, 5, 2])\n",
    "print(x)\n",
    "print(y)\n",
    "\n",
    "# 默认使用float32\n",
    "z = torch.tensor([5.5, 3])\n",
    "print(z)\n",
    "print(z.dtype)"
   ]
  },
  {
   "cell_type": "code",
   "execution_count": 8,
   "metadata": {
    "ExecuteTime": {
     "end_time": "2020-09-10T09:00:19.810860Z",
     "start_time": "2020-09-10T09:00:19.804014Z"
    }
   },
   "outputs": [
    {
     "name": "stdout",
     "output_type": "stream",
     "text": [
      "140309145439568\n",
      "140309145621760\n",
      "tensor([2, 5, 2]) [2 5 2]\n",
      "140309145557888\n"
     ]
    }
   ],
   "source": [
    "print(id(y))\n",
    "x = torch.tensor(y)\n",
    "print(id(x))\n",
    "print(x, y)\n",
    "\n",
    "z = torch.from_numpy(y)\n",
    "print(id(z))"
   ]
  },
  {
   "cell_type": "code",
   "execution_count": 10,
   "metadata": {
    "ExecuteTime": {
     "end_time": "2020-09-10T09:00:48.783029Z",
     "start_time": "2020-09-10T09:00:48.778485Z"
    }
   },
   "outputs": [
    {
     "name": "stdout",
     "output_type": "stream",
     "text": [
      "tensor([2, 5, 2])\n",
      "tensor([100,   5,   2])\n"
     ]
    }
   ],
   "source": [
    "y[0] = 100\n",
    "\n",
    "# 使用torch.tensor没有影响\n",
    "print(x)\n",
    "# 使用torch.from_numpy有影响\n",
    "print(z)"
   ]
  },
  {
   "cell_type": "markdown",
   "metadata": {},
   "source": [
    "### 创建全为1的tensor"
   ]
  },
  {
   "cell_type": "code",
   "execution_count": 11,
   "metadata": {
    "ExecuteTime": {
     "end_time": "2020-09-10T09:04:05.917505Z",
     "start_time": "2020-09-10T09:04:05.905495Z"
    }
   },
   "outputs": [
    {
     "name": "stdout",
     "output_type": "stream",
     "text": [
      "tensor([[1., 1., 1.],\n",
      "        [1., 1., 1.],\n",
      "        [1., 1., 1.],\n",
      "        [1., 1., 1.],\n",
      "        [1., 1., 1.]])\n",
      "tensor([[1., 1., 1.],\n",
      "        [1., 1., 1.],\n",
      "        [1., 1., 1.],\n",
      "        [1., 1., 1.],\n",
      "        [1., 1., 1.]])\n",
      "torch.float32\n"
     ]
    }
   ],
   "source": [
    "x = x.new_ones(5, 3, dtype = torch.float)\n",
    "print(x)\n",
    "\n",
    "# 默认使用float32\n",
    "x = torch.ones(5, 3)\n",
    "print(x)\n",
    "print(x.dtype)"
   ]
  },
  {
   "cell_type": "markdown",
   "metadata": {},
   "source": [
    "### xxx_like"
   ]
  },
  {
   "cell_type": "code",
   "execution_count": 56,
   "metadata": {
    "ExecuteTime": {
     "end_time": "2020-06-06T12:41:51.109171Z",
     "start_time": "2020-06-06T12:41:51.104453Z"
    }
   },
   "outputs": [
    {
     "data": {
      "text/plain": [
       "<module 'numpy.random' from '/home/jianli/anaconda3/lib/python3.7/site-packages/numpy/random/__init__.py'>"
      ]
     },
     "execution_count": 56,
     "metadata": {},
     "output_type": "execute_result"
    }
   ],
   "source": [
    "np.eye"
   ]
  },
  {
   "cell_type": "code",
   "execution_count": 15,
   "metadata": {
    "ExecuteTime": {
     "end_time": "2020-09-10T09:04:46.371700Z",
     "start_time": "2020-09-10T09:04:46.341240Z"
    }
   },
   "outputs": [
    {
     "name": "stdout",
     "output_type": "stream",
     "text": [
      "torch.Size([5, 3])\n"
     ]
    },
    {
     "data": {
      "text/plain": [
       "tensor([[1., 1., 1.],\n",
       "        [1., 1., 1.],\n",
       "        [1., 1., 1.],\n",
       "        [1., 1., 1.],\n",
       "        [1., 1., 1.]])"
      ]
     },
     "execution_count": 15,
     "metadata": {},
     "output_type": "execute_result"
    },
    {
     "data": {
      "text/plain": [
       "array([[1., 1., 1.],\n",
       "       [1., 1., 1.],\n",
       "       [1., 1., 1.],\n",
       "       [1., 1., 1.],\n",
       "       [1., 1., 1.]], dtype=float32)"
      ]
     },
     "execution_count": 15,
     "metadata": {},
     "output_type": "execute_result"
    },
    {
     "data": {
      "text/plain": [
       "tensor([[0., 0., 0.],\n",
       "        [0., 0., 0.],\n",
       "        [0., 0., 0.],\n",
       "        [0., 0., 0.],\n",
       "        [0., 0., 0.]])"
      ]
     },
     "execution_count": 15,
     "metadata": {},
     "output_type": "execute_result"
    },
    {
     "data": {
      "text/plain": [
       "array([[0., 0., 0.],\n",
       "       [0., 0., 0.],\n",
       "       [0., 0., 0.],\n",
       "       [0., 0., 0.],\n",
       "       [0., 0., 0.]], dtype=float32)"
      ]
     },
     "execution_count": 15,
     "metadata": {},
     "output_type": "execute_result"
    },
    {
     "data": {
      "text/plain": [
       "tensor([[0.2024, 0.3515, 0.3554],\n",
       "        [0.4181, 0.6946, 0.4355],\n",
       "        [0.3761, 0.1154, 0.7575],\n",
       "        [0.4202, 0.5807, 0.0761],\n",
       "        [0.1262, 0.1154, 0.9626]])"
      ]
     },
     "execution_count": 15,
     "metadata": {},
     "output_type": "execute_result"
    },
    {
     "data": {
      "text/plain": [
       "tensor([[ 0.7905, -1.0319,  0.3227],\n",
       "        [ 0.6664,  0.5426, -0.0156],\n",
       "        [ 0.2069, -0.4097, -0.5677],\n",
       "        [ 0.1870,  0.1055, -1.6842],\n",
       "        [ 1.7219, -0.6910,  0.3226]])"
      ]
     },
     "execution_count": 15,
     "metadata": {},
     "output_type": "execute_result"
    }
   ],
   "source": [
    "print(x.shape)\n",
    "\n",
    "# ones_like\n",
    "torch.ones_like(x)\n",
    "np.ones_like(x)\n",
    "\n",
    "# zeros_like\n",
    "torch.zeros_like(x)\n",
    "np.zeros_like(x)\n",
    "\n",
    "# rand_like， np没有\n",
    "torch.rand_like(x)\n",
    "\n",
    "# randn_like，np没有\n",
    "torch.randn_like(x)\n"
   ]
  },
  {
   "cell_type": "markdown",
   "metadata": {},
   "source": [
    "### 对角线为1的矩阵"
   ]
  },
  {
   "cell_type": "code",
   "execution_count": 54,
   "metadata": {
    "ExecuteTime": {
     "end_time": "2020-06-06T12:40:50.903034Z",
     "start_time": "2020-06-06T12:40:50.895055Z"
    }
   },
   "outputs": [
    {
     "name": "stdout",
     "output_type": "stream",
     "text": [
      "tensor([[1., 0., 0., 0., 0.],\n",
      "        [0., 1., 0., 0., 0.],\n",
      "        [0., 0., 1., 0., 0.],\n",
      "        [0., 0., 0., 1., 0.]])\n",
      "[[1. 0. 0. 0. 0.]\n",
      " [0. 1. 0. 0. 0.]\n",
      " [0. 0. 1. 0. 0.]\n",
      " [0. 0. 0. 1. 0.]]\n"
     ]
    }
   ],
   "source": [
    "x = torch.eye(4, 5)\n",
    "print(x)\n",
    "\n",
    "y = np.eye(4, 5)\n",
    "print(y)"
   ]
  },
  {
   "cell_type": "markdown",
   "metadata": {},
   "source": [
    "### 三角矩阵"
   ]
  },
  {
   "cell_type": "code",
   "execution_count": 20,
   "metadata": {
    "ExecuteTime": {
     "end_time": "2020-06-07T07:40:25.767839Z",
     "start_time": "2020-06-07T07:40:25.751367Z"
    }
   },
   "outputs": [
    {
     "name": "stdout",
     "output_type": "stream",
     "text": [
      "[[1. 1. 1.]\n",
      " [1. 1. 1.]\n",
      " [1. 1. 1.]\n",
      " [1. 1. 1.]\n",
      " [1. 1. 1.]]\n",
      "float64\n"
     ]
    },
    {
     "data": {
      "text/plain": [
       "array([[1., 1., 1.],\n",
       "       [0., 1., 1.],\n",
       "       [0., 0., 1.],\n",
       "       [0., 0., 0.],\n",
       "       [0., 0., 0.]])"
      ]
     },
     "execution_count": 20,
     "metadata": {},
     "output_type": "execute_result"
    },
    {
     "data": {
      "text/plain": [
       "array([[0., 1., 1.],\n",
       "       [0., 0., 1.],\n",
       "       [0., 0., 0.],\n",
       "       [0., 0., 0.],\n",
       "       [0., 0., 0.]])"
      ]
     },
     "execution_count": 20,
     "metadata": {},
     "output_type": "execute_result"
    },
    {
     "data": {
      "text/plain": [
       "array([[1., 0., 0.],\n",
       "       [1., 1., 0.],\n",
       "       [1., 1., 1.],\n",
       "       [1., 1., 1.],\n",
       "       [1., 1., 1.]])"
      ]
     },
     "execution_count": 20,
     "metadata": {},
     "output_type": "execute_result"
    },
    {
     "data": {
      "text/plain": [
       "array([[0., 0., 0.],\n",
       "       [1., 0., 0.],\n",
       "       [1., 1., 0.],\n",
       "       [1., 1., 1.],\n",
       "       [1., 1., 1.]])"
      ]
     },
     "execution_count": 20,
     "metadata": {},
     "output_type": "execute_result"
    }
   ],
   "source": [
    "# numpy默认使用float64\n",
    "x = np.ones([5, 3])\n",
    "print(x)\n",
    "print(x.dtype)\n",
    "\n",
    "# 上三角矩阵\n",
    "np.triu(x)\n",
    "# 可以指定偏移量\n",
    "np.triu(x, 1)\n",
    "\n",
    "# 下三角矩阵\n",
    "np.tril(x)\n",
    "# 指定偏移量\n",
    "np.tril(x, -1)"
   ]
  },
  {
   "cell_type": "code",
   "execution_count": 39,
   "metadata": {
    "ExecuteTime": {
     "end_time": "2020-06-07T07:50:00.383829Z",
     "start_time": "2020-06-07T07:50:00.375125Z"
    }
   },
   "outputs": [
    {
     "name": "stdout",
     "output_type": "stream",
     "text": [
      "tensor([[1., 1., 1.],\n",
      "        [1., 1., 1.],\n",
      "        [1., 1., 1.],\n",
      "        [1., 1., 1.],\n",
      "        [1., 1., 1.]], dtype=torch.float64)\n"
     ]
    },
    {
     "data": {
      "text/plain": [
       "tensor([[0., 1., 1.],\n",
       "        [0., 0., 1.],\n",
       "        [0., 0., 0.],\n",
       "        [0., 0., 0.],\n",
       "        [0., 0., 0.]], dtype=torch.float64)"
      ]
     },
     "execution_count": 39,
     "metadata": {},
     "output_type": "execute_result"
    },
    {
     "data": {
      "text/plain": [
       "tensor([[0., 0., 0.],\n",
       "        [1., 0., 0.],\n",
       "        [1., 1., 0.],\n",
       "        [1., 1., 1.],\n",
       "        [1., 1., 1.]], dtype=torch.float64)"
      ]
     },
     "execution_count": 39,
     "metadata": {},
     "output_type": "execute_result"
    }
   ],
   "source": [
    "x = torch.from_numpy(x)\n",
    "print(x)\n",
    "\n",
    "# torch版的上三角矩阵+偏移量\n",
    "torch.triu(x, 1)\n",
    "# torch版的下三角矩阵+偏移量\n",
    "torch.tril(x, -1)"
   ]
  },
  {
   "cell_type": "markdown",
   "metadata": {},
   "source": [
    "### arange的使用"
   ]
  },
  {
   "cell_type": "markdown",
   "metadata": {},
   "source": [
    "生成s->e，步长为step"
   ]
  },
  {
   "cell_type": "code",
   "execution_count": 61,
   "metadata": {
    "ExecuteTime": {
     "end_time": "2020-06-07T08:05:12.985458Z",
     "start_time": "2020-06-07T08:05:12.971728Z"
    }
   },
   "outputs": [
    {
     "name": "stdout",
     "output_type": "stream",
     "text": [
      "tensor([1, 2, 3, 4, 5, 6, 7, 8, 9])\n",
      "[1 2 3 4 5 6 7 8 9]\n",
      "tensor([ 1,  3,  5,  7,  9, 11, 13, 15, 17, 19])\n",
      "[ 1  3  5  7  9 11 13 15 17 19]\n"
     ]
    }
   ],
   "source": [
    "# 默认步长为1\n",
    "x = torch.arange(1, 10)\n",
    "print(x)\n",
    "x = np.arange(1, 10)\n",
    "print(x)\n",
    "\n",
    "# 使用其他步长\n",
    "x = torch.arange(1, 20, 2)\n",
    "print(x)\n",
    "x = np.arange(1, 20, 2)\n",
    "print(x)"
   ]
  },
  {
   "cell_type": "markdown",
   "metadata": {},
   "source": [
    "### linspace的使用"
   ]
  },
  {
   "cell_type": "markdown",
   "metadata": {},
   "source": [
    "生成s->e,均匀分成几分step"
   ]
  },
  {
   "cell_type": "code",
   "execution_count": 64,
   "metadata": {
    "ExecuteTime": {
     "end_time": "2020-06-07T08:07:56.004548Z",
     "start_time": "2020-06-07T08:07:55.997512Z"
    }
   },
   "outputs": [
    {
     "name": "stdout",
     "output_type": "stream",
     "text": [
      "tensor([0.0000, 0.1111, 0.2222, 0.3333, 0.4444, 0.5556, 0.6667, 0.7778, 0.8889,\n",
      "        1.0000])\n",
      "torch.float32\n",
      "[0.         0.11111111 0.22222222 0.33333333 0.44444444 0.55555556\n",
      " 0.66666667 0.77777778 0.88888889 1.        ]\n",
      "float64\n"
     ]
    }
   ],
   "source": [
    "# 默认float32\n",
    "x = torch.linspace(0, 1, 10)\n",
    "print(x)\n",
    "print(x.dtype)\n",
    "\n",
    "# 默认float64\n",
    "x = np.linspace(0, 1, 10)\n",
    "print(x)\n",
    "print(x.dtype)"
   ]
  },
  {
   "cell_type": "markdown",
   "metadata": {},
   "source": [
    "### 0-1的均匀分布/均匀分布"
   ]
  },
  {
   "cell_type": "markdown",
   "metadata": {},
   "source": [
    "- 使用rand来生成0-1的均匀分布\n",
    "- 使用uniform来生成0-1的均匀分布\n",
    "    - torch没有uniform，需要使用from_numpy从numpy转为torch"
   ]
  },
  {
   "cell_type": "code",
   "execution_count": 67,
   "metadata": {
    "ExecuteTime": {
     "end_time": "2020-06-07T08:10:13.763691Z",
     "start_time": "2020-06-07T08:10:13.745962Z"
    }
   },
   "outputs": [
    {
     "name": "stdout",
     "output_type": "stream",
     "text": [
      "tensor([[0.7856, 0.1705, 0.3634],\n",
      "        [0.5710, 0.5136, 0.3578],\n",
      "        [0.8516, 0.3238, 0.3493],\n",
      "        [0.6998, 0.3326, 0.2553],\n",
      "        [0.6213, 0.8832, 0.6238]])\n",
      "tensor(0.5135)\n",
      "[[0.52422077 0.09339264 0.58530052]\n",
      " [0.43988565 0.9020401  0.22155179]\n",
      " [0.36861703 0.75698202 0.96766298]\n",
      " [0.29527136 0.96309891 0.53401659]\n",
      " [0.90398848 0.55682904 0.95241876]]\n",
      "0.6043517754003316\n"
     ]
    }
   ],
   "source": [
    "# rand\n",
    "x = torch.rand(5, 3)\n",
    "print(x)\n",
    "print(x.mean())\n",
    "\n",
    "x = np.random.rand(5, 3)\n",
    "print(x)\n",
    "print(x.mean())"
   ]
  },
  {
   "cell_type": "code",
   "execution_count": 82,
   "metadata": {
    "ExecuteTime": {
     "end_time": "2020-06-07T08:22:52.993790Z",
     "start_time": "2020-06-07T08:22:52.985926Z"
    }
   },
   "outputs": [
    {
     "name": "stdout",
     "output_type": "stream",
     "text": [
      "[[0.67493858 0.39220922 0.04159321]\n",
      " [0.20666573 0.20937985 0.35947692]\n",
      " [0.57681787 0.44497097 0.98239364]\n",
      " [0.80804016 0.06288416 0.31140872]\n",
      " [0.82400794 0.73307531 0.58409682]]\n",
      "0.48079727446869425\n"
     ]
    }
   ],
   "source": [
    "# 使用uniform---low默认是0，high默认为1（均匀分布，low和high分别指定分布的上限和下限）\n",
    "x = np.random.uniform(low = 0, high = 1, size = (5, 3))\n",
    "print(x)\n",
    "print(x.mean())"
   ]
  },
  {
   "cell_type": "code",
   "execution_count": 87,
   "metadata": {
    "ExecuteTime": {
     "end_time": "2020-06-07T08:26:34.688421Z",
     "start_time": "2020-06-07T08:26:34.681295Z"
    }
   },
   "outputs": [
    {
     "data": {
      "text/plain": [
       "array([[0.2084891 , 1.67652859],\n",
       "       [0.19751635, 1.55816105]])"
      ]
     },
     "execution_count": 87,
     "metadata": {},
     "output_type": "execute_result"
    }
   ],
   "source": [
    "# numpy的uniform也可以指定上限和下限为一个数组\n",
    "np.random.uniform(low = (0, 1), high = (1, 2), size = (2, 2))"
   ]
  },
  {
   "cell_type": "markdown",
   "metadata": {},
   "source": [
    "### 标准正态分布/正态分布"
   ]
  },
  {
   "cell_type": "markdown",
   "metadata": {
    "ExecuteTime": {
     "end_time": "2020-06-07T08:11:45.137416Z",
     "start_time": "2020-06-07T08:11:45.126660Z"
    }
   },
   "source": [
    "- 使用randn来生成标准正态分布\n",
    "- 使用normal并指定参数生成标准正态分布"
   ]
  },
  {
   "cell_type": "code",
   "execution_count": 69,
   "metadata": {
    "ExecuteTime": {
     "end_time": "2020-06-07T08:12:44.161599Z",
     "start_time": "2020-06-07T08:12:44.144104Z"
    }
   },
   "outputs": [
    {
     "name": "stdout",
     "output_type": "stream",
     "text": [
      "tensor([[-0.9238, -0.4174,  1.4965],\n",
      "        [ 0.1293,  2.0280, -1.2280],\n",
      "        [-0.4240, -0.5251,  0.1965],\n",
      "        [-0.5644,  0.9786, -0.6935],\n",
      "        [-0.5434, -0.5136,  0.3867]])\n",
      "tensor(-0.0412)\n",
      "tensor(0.9196)\n",
      "[[-0.42030378 -0.69001644  1.56160689]\n",
      " [ 2.11907085 -0.91379623 -0.78996239]\n",
      " [ 0.26117494 -0.33577974  1.76379787]\n",
      " [-0.25674664 -0.80883817 -1.12402159]\n",
      " [ 0.64681788 -0.01479681 -1.91250861]]\n",
      "-0.060953464590583276\n",
      "1.1056514492368368\n"
     ]
    }
   ],
   "source": [
    "# 使用randn\n",
    "x = torch.randn(5, 3)\n",
    "print(x)\n",
    "print(x.mean())\n",
    "print(x.std())\n",
    "\n",
    "x = np.random.randn(5, 3)\n",
    "print(x)\n",
    "print(x.mean())\n",
    "print(x.std())"
   ]
  },
  {
   "cell_type": "code",
   "execution_count": 77,
   "metadata": {
    "ExecuteTime": {
     "end_time": "2020-06-07T08:17:44.977981Z",
     "start_time": "2020-06-07T08:17:44.961210Z"
    }
   },
   "outputs": [
    {
     "name": "stdout",
     "output_type": "stream",
     "text": [
      "tensor([[-0.0484,  7.4097,  3.5768],\n",
      "        [ 3.1587,  8.8849,  1.4460],\n",
      "        [ 7.4557,  4.3237,  4.7202],\n",
      "        [10.9238, 11.1887,  9.6401],\n",
      "        [ 4.3601,  8.8925,  2.7303]])\n",
      "tensor(5.9108)\n",
      "tensor(3.5273)\n",
      "[[ 2.29027675  4.5659811   8.68748129]\n",
      " [ 2.64500348  4.49199091  7.82808049]\n",
      " [ 8.08094001  5.98032262 -3.09509998]\n",
      " [10.20382063  4.60145405  8.61280091]\n",
      " [ 5.48440197  8.82111284  1.73655358]]\n",
      "5.395674710451174\n",
      "3.409229157099453\n"
     ]
    }
   ],
   "source": [
    "# 使用normal是生成标准正态分布，参数为mean和std\n",
    "# 生成均值为5/标准差为3\n",
    "x = torch.normal(mean = 5, std = 3, size = (5, 3))\n",
    "print(x)\n",
    "print(x.mean())\n",
    "print(x.std())\n",
    "\n",
    "x = np.random.normal(loc = 5, scale = 3, size = (5, 3))\n",
    "print(x)\n",
    "print(x.mean())\n",
    "print(x.std())"
   ]
  },
  {
   "cell_type": "markdown",
   "metadata": {},
   "source": [
    "### 随机排列"
   ]
  },
  {
   "cell_type": "code",
   "execution_count": 99,
   "metadata": {
    "ExecuteTime": {
     "end_time": "2020-06-07T08:32:13.419570Z",
     "start_time": "2020-06-07T08:32:13.408445Z"
    }
   },
   "outputs": [
    {
     "name": "stdout",
     "output_type": "stream",
     "text": [
      "tensor([7, 6, 4, 2, 8, 5, 3, 9, 0, 1])\n"
     ]
    }
   ],
   "source": [
    "# torch中没有shuffle，randperm传入的是整数\n",
    "x = torch.randperm(10)\n",
    "print(x)"
   ]
  },
  {
   "cell_type": "code",
   "execution_count": 97,
   "metadata": {
    "ExecuteTime": {
     "end_time": "2020-06-07T08:31:12.143088Z",
     "start_time": "2020-06-07T08:31:12.137404Z"
    }
   },
   "outputs": [
    {
     "name": "stdout",
     "output_type": "stream",
     "text": [
      "[0 1 2 3 4 5 6 7 8 9]\n",
      "[0 4 5 7 6 1 3 9 2 8]\n"
     ]
    }
   ],
   "source": [
    "# numpy中没有randperm的形式，使用arange+random.shuffle来达到目的\n",
    "x = np.arange(10)\n",
    "print(x)\n",
    "# shuffle接受的是数组\n",
    "np.random.shuffle(x)\n",
    "print(x)"
   ]
  },
  {
   "cell_type": "markdown",
   "metadata": {},
   "source": [
    "### randint"
   ]
  },
  {
   "cell_type": "markdown",
   "metadata": {},
   "source": [
    "随机抽选整数"
   ]
  },
  {
   "cell_type": "code",
   "execution_count": 100,
   "metadata": {
    "ExecuteTime": {
     "end_time": "2020-06-07T08:34:55.137296Z",
     "start_time": "2020-06-07T08:34:55.132780Z"
    }
   },
   "outputs": [
    {
     "name": "stdout",
     "output_type": "stream",
     "text": [
      "tensor([[3, 7],\n",
      "        [3, 5]])\n",
      "[[4 8]\n",
      " [9 8]]\n"
     ]
    }
   ],
   "source": [
    "# randint不包含右侧的元素\n",
    "# 需要指定size\n",
    "x = torch.randint(3, 10, size = (2, 2))\n",
    "print(x)\n",
    "\n",
    "x = np.random.randint(3, 10, size = (2, 2))\n",
    "print(x)"
   ]
  },
  {
   "cell_type": "markdown",
   "metadata": {},
   "source": [
    "### 随机抽样"
   ]
  },
  {
   "cell_type": "code",
   "execution_count": 46,
   "metadata": {
    "ExecuteTime": {
     "end_time": "2020-09-10T09:17:25.588023Z",
     "start_time": "2020-09-10T09:17:25.576539Z"
    }
   },
   "outputs": [
    {
     "name": "stdout",
     "output_type": "stream",
     "text": [
      "[2 0 3 1 2 2]\n"
     ]
    }
   ],
   "source": [
    "# 对一维的ndarray或者整数--> np.arange(a)来进行抽样\n",
    "# size指定的是outshape\n",
    "# replace指定是否重复抽样，默认为True，即可以重复抽样\n",
    "# p可以指定每个数的抽样概率\n",
    "x = np.random.choice(5, size = 6)\n",
    "print(x)"
   ]
  },
  {
   "cell_type": "code",
   "execution_count": 47,
   "metadata": {
    "ExecuteTime": {
     "end_time": "2020-09-10T09:17:33.919880Z",
     "start_time": "2020-09-10T09:17:33.909180Z"
    }
   },
   "outputs": [
    {
     "name": "stdout",
     "output_type": "stream",
     "text": [
      "[3 4 2]\n",
      "[[4 2]\n",
      " [0 3]]\n"
     ]
    }
   ],
   "source": [
    "# 不可以重复抽样\n",
    "x = np.random.choice(5, size = 3, replace = False)\n",
    "print(x)\n",
    "\n",
    "# 指定概率\n",
    "x = np.random.choice(5, size = (2, 2), p = (0.3, 0.1, 0.5, 0.05, 0.05))\n",
    "print(x)"
   ]
  },
  {
   "cell_type": "markdown",
   "metadata": {},
   "source": [
    "上述的tensor操作都可以指定数据类型dtype和数据存放的设备device(cpu/gpu)"
   ]
  },
  {
   "cell_type": "markdown",
   "metadata": {},
   "source": [
    "## tensor属性"
   ]
  },
  {
   "cell_type": "code",
   "execution_count": 53,
   "metadata": {
    "ExecuteTime": {
     "end_time": "2020-09-10T09:24:56.484078Z",
     "start_time": "2020-09-10T09:24:56.469762Z"
    }
   },
   "outputs": [
    {
     "name": "stdout",
     "output_type": "stream",
     "text": [
      "tensor([[0.7522, 0.8017, 0.1594],\n",
      "        [0.7792, 0.1585, 0.9569],\n",
      "        [0.7705, 0.7213, 0.4536],\n",
      "        [0.8167, 0.4508, 0.5105],\n",
      "        [0.1669, 0.6584, 0.4282]])\n",
      "[[0.91683125 0.81769736 0.4421606 ]\n",
      " [0.81181157 0.45143111 0.70622642]\n",
      " [0.10192569 0.73619612 0.59339498]\n",
      " [0.8614391  0.94009971 0.19610345]\n",
      " [0.77820609 0.47279653 0.53979979]]\n"
     ]
    }
   ],
   "source": [
    "# 0-1的均匀分布\n",
    "x = torch.rand(5, 3)\n",
    "print(x)\n",
    "\n",
    "y = np.random.rand(5, 3)\n",
    "print(y)"
   ]
  },
  {
   "cell_type": "code",
   "execution_count": 54,
   "metadata": {
    "ExecuteTime": {
     "end_time": "2020-09-10T09:25:00.257295Z",
     "start_time": "2020-09-10T09:25:00.245840Z"
    }
   },
   "outputs": [
    {
     "data": {
      "text/plain": [
       "torch.float32"
      ]
     },
     "execution_count": 54,
     "metadata": {},
     "output_type": "execute_result"
    },
    {
     "data": {
      "text/plain": [
       "dtype('float64')"
      ]
     },
     "execution_count": 54,
     "metadata": {},
     "output_type": "execute_result"
    },
    {
     "data": {
      "text/plain": [
       "'torch.FloatTensor'"
      ]
     },
     "execution_count": 54,
     "metadata": {},
     "output_type": "execute_result"
    },
    {
     "data": {
      "text/plain": [
       "<class 'torch.Tensor'>"
      ]
     },
     "execution_count": 54,
     "metadata": {},
     "output_type": "execute_result"
    },
    {
     "data": {
      "text/plain": [
       "<class 'numpy.ndarray'>"
      ]
     },
     "execution_count": 54,
     "metadata": {},
     "output_type": "execute_result"
    }
   ],
   "source": [
    "# 属性类型，tensor默认是float32，numpy默认是float64\n",
    "# 使用dtype\n",
    "x.dtype\n",
    "y.dtype\n",
    "\n",
    "# 使用type--可以知道tensor/以及是float类型的tensor\n",
    "# 可以使用type来指定存放的设备---torch.cuda.FloatTensor\n",
    "# torch.tensor([3, 5]).type(torch.cuda.FloatTensor)\n",
    "x.type()\n",
    "type(x)\n",
    "\n",
    "# np中没有y.type()的写法\n",
    "type(y)"
   ]
  },
  {
   "cell_type": "markdown",
   "metadata": {
    "ExecuteTime": {
     "end_time": "2020-06-07T07:54:34.562069Z",
     "start_time": "2020-06-07T07:54:34.557538Z"
    }
   },
   "source": [
    "如果想要知道数据具体是什么类型，就使用dtype来获取"
   ]
  },
  {
   "cell_type": "code",
   "execution_count": 119,
   "metadata": {
    "ExecuteTime": {
     "end_time": "2020-06-07T08:48:13.194044Z",
     "start_time": "2020-06-07T08:48:13.184264Z"
    }
   },
   "outputs": [
    {
     "data": {
      "text/plain": [
       "torch.Size([5, 3])"
      ]
     },
     "execution_count": 119,
     "metadata": {},
     "output_type": "execute_result"
    },
    {
     "data": {
      "text/plain": [
       "torch.Size([5, 3])"
      ]
     },
     "execution_count": 119,
     "metadata": {},
     "output_type": "execute_result"
    },
    {
     "data": {
      "text/plain": [
       "(5, 3)"
      ]
     },
     "execution_count": 119,
     "metadata": {},
     "output_type": "execute_result"
    }
   ],
   "source": [
    "# 形状\n",
    "x.shape\n",
    "x.size()\n",
    "\n",
    "# np中没有y.size()的写法，y.size是统计y中元素的总数\n",
    "y.shape"
   ]
  },
  {
   "cell_type": "markdown",
   "metadata": {
    "ExecuteTime": {
     "end_time": "2020-06-07T07:57:41.375088Z",
     "start_time": "2020-06-07T07:57:41.371600Z"
    }
   },
   "source": [
    "可以通过`shape`或者`size()`来获取`Tensor`的形状"
   ]
  },
  {
   "cell_type": "code",
   "execution_count": 120,
   "metadata": {
    "ExecuteTime": {
     "end_time": "2020-06-07T08:48:14.793024Z",
     "start_time": "2020-06-07T08:48:14.783368Z"
    }
   },
   "outputs": [
    {
     "data": {
      "text/plain": [
       "2"
      ]
     },
     "execution_count": 120,
     "metadata": {},
     "output_type": "execute_result"
    },
    {
     "data": {
      "text/plain": [
       "2"
      ]
     },
     "execution_count": 120,
     "metadata": {},
     "output_type": "execute_result"
    },
    {
     "data": {
      "text/plain": [
       "2"
      ]
     },
     "execution_count": 120,
     "metadata": {},
     "output_type": "execute_result"
    }
   ],
   "source": [
    "# 维度\n",
    "x.dim()\n",
    "x.ndim\n",
    "\n",
    "# numpy中没有y.dim()的写法\n",
    "y.ndim"
   ]
  },
  {
   "cell_type": "markdown",
   "metadata": {},
   "source": [
    "可以使用`dim()`或者`ndim`来获取`Tensor`的具体维度"
   ]
  },
  {
   "cell_type": "code",
   "execution_count": 128,
   "metadata": {
    "ExecuteTime": {
     "end_time": "2020-06-07T08:51:37.926663Z",
     "start_time": "2020-06-07T08:51:37.915426Z"
    }
   },
   "outputs": [
    {
     "data": {
      "text/plain": [
       "tensor([[0, 0, 0],\n",
       "        [0, 0, 0],\n",
       "        [0, 0, 0],\n",
       "        [0, 0, 0],\n",
       "        [0, 0, 0]])"
      ]
     },
     "execution_count": 128,
     "metadata": {},
     "output_type": "execute_result"
    },
    {
     "data": {
      "text/plain": [
       "tensor([[0, 0, 0],\n",
       "        [0, 0, 0],\n",
       "        [0, 0, 0],\n",
       "        [0, 0, 0],\n",
       "        [0, 0, 0]])"
      ]
     },
     "execution_count": 128,
     "metadata": {},
     "output_type": "execute_result"
    },
    {
     "data": {
      "text/plain": [
       "array([[0, 0, 0],\n",
       "       [0, 0, 0],\n",
       "       [0, 0, 0],\n",
       "       [0, 0, 0],\n",
       "       [0, 0, 0]], dtype=int32)"
      ]
     },
     "execution_count": 128,
     "metadata": {},
     "output_type": "execute_result"
    }
   ],
   "source": [
    "# 类型转化， torch中没有astype的写法\n",
    "# 转为长整型，直接使用type来进行类型的转化\n",
    "x.long()\n",
    "x.type(torch.LongTensor)\n",
    "\n",
    "# numpy中只有astype的写法\n",
    "y.astype(np.int32)"
   ]
  },
  {
   "cell_type": "code",
   "execution_count": 129,
   "metadata": {
    "ExecuteTime": {
     "end_time": "2020-06-07T08:52:08.089962Z",
     "start_time": "2020-06-07T08:52:08.080210Z"
    }
   },
   "outputs": [
    {
     "data": {
      "text/plain": [
       "tensor([[0.5155, 0.6778, 0.1018],\n",
       "        [0.2001, 0.0122, 0.2110],\n",
       "        [0.9952, 0.3753, 0.8784],\n",
       "        [0.1869, 0.9998, 0.3619],\n",
       "        [0.3760, 0.6282, 0.8793]])"
      ]
     },
     "execution_count": 129,
     "metadata": {},
     "output_type": "execute_result"
    },
    {
     "data": {
      "text/plain": [
       "array([[0.55239997, 0.88334883, 0.69038374],\n",
       "       [0.7304571 , 0.75609868, 0.24010139],\n",
       "       [0.99193287, 0.08895936, 0.38132114],\n",
       "       [0.90141324, 0.51716701, 0.29220356],\n",
       "       [0.65267557, 0.31061703, 0.35611677]])"
      ]
     },
     "execution_count": 129,
     "metadata": {},
     "output_type": "execute_result"
    }
   ],
   "source": [
    "# 转为浮点型\n",
    "x.float()\n",
    "# x = x.type(torch.FloatTensor)\n",
    "y.astype(float)\n",
    "# y = y.astype(np.float)\n"
   ]
  },
  {
   "cell_type": "markdown",
   "metadata": {},
   "source": [
    "## 向量化操作"
   ]
  },
  {
   "cell_type": "code",
   "execution_count": 3,
   "metadata": {
    "ExecuteTime": {
     "end_time": "2020-09-10T13:09:01.464858Z",
     "start_time": "2020-09-10T13:09:01.457055Z"
    }
   },
   "outputs": [
    {
     "name": "stdout",
     "output_type": "stream",
     "text": [
      "tensor([[-1.2124, -0.7694, -0.0111,  0.0616],\n",
      "        [-1.2255, -0.5530, -0.5408,  0.3980],\n",
      "        [-1.1680,  1.4159,  0.7520,  0.6132],\n",
      "        [ 0.2903,  0.5779, -0.2709,  1.5370],\n",
      "        [ 0.8104,  2.3588, -0.9783, -1.8946]])\n",
      "[[-1.2124348  -0.7694348  -0.01108589  0.06164192]\n",
      " [-1.2254913  -0.5530235  -0.54078954  0.3979918 ]\n",
      " [-1.1680038   1.41595     0.7519946   0.6131533 ]\n",
      " [ 0.29032758  0.57789314 -0.2708661   1.5370442 ]\n",
      " [ 0.8104295   2.3588047  -0.9783355  -1.8945731 ]]\n"
     ]
    }
   ],
   "source": [
    "x = torch.randn(5, 4)\n",
    "print(x)\n",
    "\n",
    "y = x.numpy()\n",
    "print(y)"
   ]
  },
  {
   "cell_type": "markdown",
   "metadata": {},
   "source": [
    "torch在各维度的操作和numpy比较相似"
   ]
  },
  {
   "cell_type": "code",
   "execution_count": 5,
   "metadata": {
    "ExecuteTime": {
     "end_time": "2020-09-10T13:16:49.157139Z",
     "start_time": "2020-09-10T13:16:49.150270Z"
    }
   },
   "outputs": [
    {
     "data": {
      "text/plain": [
       "torch.return_types.max(\n",
       "values=tensor([0.8104, 2.3588, 0.7520, 1.5370]),\n",
       "indices=tensor([4, 4, 2, 3]))"
      ]
     },
     "execution_count": 5,
     "metadata": {},
     "output_type": "execute_result"
    },
    {
     "data": {
      "text/plain": [
       "array([0.8104295, 2.3588047, 0.7519946, 1.5370442], dtype=float32)"
      ]
     },
     "execution_count": 5,
     "metadata": {},
     "output_type": "execute_result"
    }
   ],
   "source": [
    "# torch同时显示值和索引\n",
    "torch.max(x, dim = 0)\n",
    "\n",
    "# numpy\n",
    "y.max(axis = 0)"
   ]
  },
  {
   "cell_type": "code",
   "execution_count": 7,
   "metadata": {
    "ExecuteTime": {
     "end_time": "2020-09-10T13:51:47.798278Z",
     "start_time": "2020-09-10T13:51:47.781998Z"
    }
   },
   "outputs": [
    {
     "data": {
      "text/plain": [
       "tensor([0.0616, 0.3980, 1.4159, 1.5370, 2.3588])"
      ]
     },
     "execution_count": 7,
     "metadata": {},
     "output_type": "execute_result"
    },
    {
     "data": {
      "text/plain": [
       "tensor([3, 3, 1, 3, 1])"
      ]
     },
     "execution_count": 7,
     "metadata": {},
     "output_type": "execute_result"
    },
    {
     "data": {
      "text/plain": [
       "array([0.06164192, 0.3979918 , 1.41595   , 1.5370442 , 2.3588047 ],\n",
       "      dtype=float32)"
      ]
     },
     "execution_count": 7,
     "metadata": {},
     "output_type": "execute_result"
    }
   ],
   "source": [
    "# 沿着行取最大值\n",
    "max_value, max_index = torch.max(x, dim=1)\n",
    "# 每一行的最大值\n",
    "max_value\n",
    "# 每一行的最大值下标\n",
    "max_index\n",
    "\n",
    "y.max(axis = 1)"
   ]
  },
  {
   "cell_type": "code",
   "execution_count": 71,
   "metadata": {
    "ExecuteTime": {
     "end_time": "2019-12-10T16:21:25.024076Z",
     "start_time": "2019-12-10T16:21:25.016080Z"
    }
   },
   "outputs": [
    {
     "data": {
      "text/plain": [
       "tensor([-1.8536, -0.3917, -2.5923,  3.1086,  2.5655])"
      ]
     },
     "execution_count": 71,
     "metadata": {},
     "output_type": "execute_result"
    }
   ],
   "source": [
    "# 沿着行对x求和\n",
    "# torch指定dim或者axis都可以，numpy只能指定axis\n",
    "sum_x = torch.sum(x, dim=1)\n",
    "sum_x"
   ]
  },
  {
   "cell_type": "markdown",
   "metadata": {},
   "source": [
    "## 维度问题"
   ]
  },
  {
   "cell_type": "markdown",
   "metadata": {},
   "source": [
    "### 增减维度"
   ]
  },
  {
   "cell_type": "code",
   "execution_count": 137,
   "metadata": {
    "ExecuteTime": {
     "end_time": "2020-06-07T09:01:38.121513Z",
     "start_time": "2020-06-07T09:01:38.116892Z"
    }
   },
   "outputs": [
    {
     "name": "stdout",
     "output_type": "stream",
     "text": [
      "tensor([[0.1077, 0.2870, 0.0031, 0.3115],\n",
      "        [0.6368, 0.4573, 0.5416, 0.5897],\n",
      "        [0.8476, 0.9510, 0.0782, 0.6729],\n",
      "        [0.1199, 0.7113, 0.1124, 0.5893],\n",
      "        [0.9934, 0.2402, 0.7891, 0.1603]])\n"
     ]
    }
   ],
   "source": [
    "x = torch.rand(5, 4)\n",
    "print(x)"
   ]
  },
  {
   "cell_type": "code",
   "execution_count": 138,
   "metadata": {
    "ExecuteTime": {
     "end_time": "2020-06-07T09:01:41.268583Z",
     "start_time": "2020-06-07T09:01:41.249426Z"
    }
   },
   "outputs": [
    {
     "data": {
      "text/plain": [
       "torch.Size([5, 4])"
      ]
     },
     "execution_count": 138,
     "metadata": {},
     "output_type": "execute_result"
    },
    {
     "data": {
      "text/plain": [
       "torch.Size([1, 5, 4])"
      ]
     },
     "execution_count": 138,
     "metadata": {},
     "output_type": "execute_result"
    },
    {
     "data": {
      "text/plain": [
       "torch.Size([1, 1, 5, 4])"
      ]
     },
     "execution_count": 138,
     "metadata": {},
     "output_type": "execute_result"
    },
    {
     "data": {
      "text/plain": [
       "torch.Size([1, 5, 4])"
      ]
     },
     "execution_count": 138,
     "metadata": {},
     "output_type": "execute_result"
    },
    {
     "data": {
      "text/plain": [
       "torch.Size([5, 4])"
      ]
     },
     "execution_count": 138,
     "metadata": {},
     "output_type": "execute_result"
    }
   ],
   "source": [
    "# 增加维度或者减少维度\n",
    "x.shape\n",
    "# 在第一维增加\n",
    "x = x.unsqueeze(0)\n",
    "x.shape\n",
    "# 第二维增加\n",
    "x = x.unsqueeze(1)\n",
    "x.shape\n",
    "# 减少一维\n",
    "x = x.squeeze(0)\n",
    "x.shape\n",
    "# 默认将一维全部去掉\n",
    "x = x.squeeze()\n",
    "x.shape"
   ]
  },
  {
   "cell_type": "code",
   "execution_count": 152,
   "metadata": {
    "ExecuteTime": {
     "end_time": "2020-06-07T09:10:35.967544Z",
     "start_time": "2020-06-07T09:10:35.961946Z"
    }
   },
   "outputs": [
    {
     "name": "stdout",
     "output_type": "stream",
     "text": [
      "(5, 3)\n",
      "(1, 5, 3)\n",
      "(5, 3)\n"
     ]
    }
   ],
   "source": [
    "x = np.random.randn(5, 3)\n",
    "print(x.shape)\n",
    "\n",
    "# 增加维度\n",
    "x = np.expand_dims(x, axis = 0)\n",
    "print(x.shape)\n",
    "\n",
    "# 减少维度\n",
    "# x = np.squeeze(x, axis = 0)\n",
    "x = x.squeeze(0)\n",
    "print(x.shape)"
   ]
  },
  {
   "cell_type": "markdown",
   "metadata": {},
   "source": [
    "### 维度交换"
   ]
  },
  {
   "cell_type": "code",
   "execution_count": 153,
   "metadata": {
    "ExecuteTime": {
     "end_time": "2020-06-07T09:11:31.742991Z",
     "start_time": "2020-06-07T09:11:31.736030Z"
    }
   },
   "outputs": [
    {
     "data": {
      "text/plain": [
       "torch.Size([3, 4, 5])"
      ]
     },
     "execution_count": 153,
     "metadata": {},
     "output_type": "execute_result"
    }
   ],
   "source": [
    "# 维度交换\n",
    "# 生成随机数\n",
    "x = torch.randn(3,4,5)\n",
    "x.shape"
   ]
  },
  {
   "cell_type": "code",
   "execution_count": 154,
   "metadata": {
    "ExecuteTime": {
     "end_time": "2020-06-07T09:11:32.785084Z",
     "start_time": "2020-06-07T09:11:32.768874Z"
    }
   },
   "outputs": [
    {
     "data": {
      "text/plain": [
       "torch.Size([4, 3, 5])"
      ]
     },
     "execution_count": 154,
     "metadata": {},
     "output_type": "execute_result"
    },
    {
     "data": {
      "text/plain": [
       "torch.Size([5, 3, 4])"
      ]
     },
     "execution_count": 154,
     "metadata": {},
     "output_type": "execute_result"
    }
   ],
   "source": [
    "# permute可以重新排列tensor的维度\n",
    "# 参数是对应的维度\n",
    "x = x.permute(1, 0, 2)\n",
    "x.shape\n",
    "\n",
    "# transpose可以交换tensor中的两个维度(torch只能交换两个\n",
    "# numpy中transpose可以像torch的permute一样的使用)\n",
    "# numpy中的swapaxes像torch中的transpose一样的使用\n",
    "# 交换0和2的维度\n",
    "x = x.transpose(0, 2)\n",
    "x.shape"
   ]
  },
  {
   "cell_type": "code",
   "execution_count": 169,
   "metadata": {
    "ExecuteTime": {
     "end_time": "2020-06-07T09:15:41.633045Z",
     "start_time": "2020-06-07T09:15:41.626101Z"
    }
   },
   "outputs": [
    {
     "name": "stdout",
     "output_type": "stream",
     "text": [
      "(3, 4, 5)\n",
      "(4, 5, 3)\n"
     ]
    }
   ],
   "source": [
    "x = np.random.randn(3, 4, 5)\n",
    "print(x.shape)\n",
    "\n",
    "# 使用transpose来交换维度\n",
    "x = np.transpose(x, (1, 2, 0))\n",
    "# x = x.transpose(1, 2, 0)\n",
    "# x = x.swapaxes(1, 0)\n",
    "print(x.shape)"
   ]
  },
  {
   "cell_type": "code",
   "execution_count": 118,
   "metadata": {
    "ExecuteTime": {
     "end_time": "2019-12-10T16:44:54.102601Z",
     "start_time": "2019-12-10T16:44:54.094607Z"
    }
   },
   "outputs": [
    {
     "data": {
      "text/plain": [
       "torch.Size([5, 3, 4])"
      ]
     },
     "execution_count": 118,
     "metadata": {},
     "output_type": "execute_result"
    },
    {
     "data": {
      "text/plain": [
       "60"
      ]
     },
     "execution_count": 118,
     "metadata": {},
     "output_type": "execute_result"
    }
   ],
   "source": [
    "# reshape\n",
    "x.size()\n",
    "# 拿到元素的个数\n",
    "x.numel()"
   ]
  },
  {
   "cell_type": "markdown",
   "metadata": {},
   "source": [
    "### 改变形状"
   ]
  },
  {
   "cell_type": "markdown",
   "metadata": {},
   "source": [
    "- 可以使用`view`/`reshape`来改变`tensor`的形状\n",
    "- numpy中可以使用`reshape`/`flatten`/`ravel`来改变`ndarray`的形状\n",
    "    - reshape和ravel返回的是视图\n",
    "    - ravel可以以不同的方式来拉平数组\n",
    "    - flatten返回的副本"
   ]
  },
  {
   "cell_type": "markdown",
   "metadata": {},
   "source": [
    "对于tensor,本质上来说`veiw`仅仅是改变张量的观察角度，返回的tensor和原来的tensor是共享内存的（即指向同一对象）"
   ]
  },
  {
   "cell_type": "code",
   "execution_count": 5,
   "metadata": {
    "ExecuteTime": {
     "end_time": "2020-09-10T23:47:42.660371Z",
     "start_time": "2020-09-10T23:47:42.643731Z"
    }
   },
   "outputs": [
    {
     "name": "stdout",
     "output_type": "stream",
     "text": [
      "torch.Size([5, 3]) torch.Size([15]) torch.Size([3, 5])\n",
      "tensor([[0.0280, 0.7563, 0.3327],\n",
      "        [0.2673, 0.1551, 0.2204],\n",
      "        [0.3202, 0.6802, 0.4012],\n",
      "        [0.7856, 0.7638, 0.0963],\n",
      "        [0.7157, 0.9640, 0.7578]])\n",
      "tensor([0.0280, 0.7563, 0.3327, 0.2673, 0.1551, 0.2204, 0.3202, 0.6802, 0.4012,\n",
      "        0.7856, 0.7638, 0.0963, 0.7157, 0.9640, 0.7578])\n",
      "tensor([[0.0280, 0.7563, 0.3327, 0.2673, 0.1551],\n",
      "        [0.2204, 0.3202, 0.6802, 0.4012, 0.7856],\n",
      "        [0.7638, 0.0963, 0.7157, 0.9640, 0.7578]])\n"
     ]
    }
   ],
   "source": [
    "x = torch.rand(5, 3)\n",
    "y = x.view(15)\n",
    "# -1所指的维度可以根据其他维度的值推算出来\n",
    "z = x.view(-1, 5)\n",
    "print(x.shape, y.shape, z.shape)\n",
    "print(x)\n",
    "print(y)\n",
    "print(z)"
   ]
  },
  {
   "cell_type": "code",
   "execution_count": 6,
   "metadata": {
    "ExecuteTime": {
     "end_time": "2020-09-10T23:47:50.734239Z",
     "start_time": "2020-09-10T23:47:50.725169Z"
    }
   },
   "outputs": [
    {
     "name": "stdout",
     "output_type": "stream",
     "text": [
      "tensor([[1.0280, 1.7563, 1.3327],\n",
      "        [1.2673, 1.1551, 1.2204],\n",
      "        [1.3202, 1.6802, 1.4012],\n",
      "        [1.7856, 1.7638, 1.0963],\n",
      "        [1.7157, 1.9640, 1.7578]])\n",
      "tensor([1.0280, 1.7563, 1.3327, 1.2673, 1.1551, 1.2204, 1.3202, 1.6802, 1.4012,\n",
      "        1.7856, 1.7638, 1.0963, 1.7157, 1.9640, 1.7578])\n",
      "tensor([[1.0280, 1.7563, 1.3327, 1.2673, 1.1551],\n",
      "        [1.2204, 1.3202, 1.6802, 1.4012, 1.7856],\n",
      "        [1.7638, 1.0963, 1.7157, 1.9640, 1.7578]])\n"
     ]
    }
   ],
   "source": [
    "x += 1\n",
    "print(x)\n",
    "print(y)\n",
    "print(z)"
   ]
  },
  {
   "cell_type": "markdown",
   "metadata": {},
   "source": [
    "也可以使用reshape来改变形状，但是这个函数不能保证返回的是其拷贝，所以不推荐使用\n",
    "- 一般来说reshape返回的视图"
   ]
  },
  {
   "cell_type": "code",
   "execution_count": 7,
   "metadata": {
    "ExecuteTime": {
     "end_time": "2020-09-10T23:48:15.226612Z",
     "start_time": "2020-09-10T23:48:15.209553Z"
    }
   },
   "outputs": [
    {
     "name": "stdout",
     "output_type": "stream",
     "text": [
      "torch.Size([5, 3]) torch.Size([15]) torch.Size([3, 5])\n",
      "tensor([[0.0278, 0.0177, 0.2030],\n",
      "        [0.7705, 0.7448, 0.5165],\n",
      "        [0.4383, 0.8849, 0.5802],\n",
      "        [0.4665, 0.7299, 0.2285],\n",
      "        [0.8093, 0.0879, 0.4363]])\n",
      "tensor([0.0278, 0.0177, 0.2030, 0.7705, 0.7448, 0.5165, 0.4383, 0.8849, 0.5802,\n",
      "        0.4665, 0.7299, 0.2285, 0.8093, 0.0879, 0.4363])\n",
      "tensor([[0.0278, 0.0177, 0.2030, 0.7705, 0.7448],\n",
      "        [0.5165, 0.4383, 0.8849, 0.5802, 0.4665],\n",
      "        [0.7299, 0.2285, 0.8093, 0.0879, 0.4363]])\n"
     ]
    }
   ],
   "source": [
    "x = torch.rand(5, 3)\n",
    "y = x.reshape(-1)\n",
    "z = x.reshape(3, 5)\n",
    "print(x.shape, y.shape, z.shape)\n",
    "print(x)\n",
    "print(y)\n",
    "print(z)"
   ]
  },
  {
   "cell_type": "code",
   "execution_count": 8,
   "metadata": {
    "ExecuteTime": {
     "end_time": "2020-09-10T23:48:17.418390Z",
     "start_time": "2020-09-10T23:48:17.411130Z"
    }
   },
   "outputs": [
    {
     "name": "stdout",
     "output_type": "stream",
     "text": [
      "tensor([[1.0278, 1.0177, 1.2030],\n",
      "        [1.7705, 1.7448, 1.5165],\n",
      "        [1.4383, 1.8849, 1.5802],\n",
      "        [1.4665, 1.7299, 1.2285],\n",
      "        [1.8093, 1.0879, 1.4363]])\n",
      "tensor([1.0278, 1.0177, 1.2030, 1.7705, 1.7448, 1.5165, 1.4383, 1.8849, 1.5802,\n",
      "        1.4665, 1.7299, 1.2285, 1.8093, 1.0879, 1.4363])\n",
      "tensor([[1.0278, 1.0177, 1.2030, 1.7705, 1.7448],\n",
      "        [1.5165, 1.4383, 1.8849, 1.5802, 1.4665],\n",
      "        [1.7299, 1.2285, 1.8093, 1.0879, 1.4363]])\n"
     ]
    }
   ],
   "source": [
    "# 在此处共享内存了\n",
    "x += 1\n",
    "print(x)\n",
    "print(y)\n",
    "print(z)"
   ]
  },
  {
   "cell_type": "markdown",
   "metadata": {},
   "source": [
    "想要获取tensor的拷贝---使用clone的方式\n",
    "- clone还有一个好处是会被记录在计算图中，即梯度回传到副本时会传到源tensor"
   ]
  },
  {
   "cell_type": "code",
   "execution_count": 178,
   "metadata": {
    "ExecuteTime": {
     "end_time": "2020-06-07T10:04:35.934912Z",
     "start_time": "2020-06-07T10:04:35.927870Z"
    }
   },
   "outputs": [
    {
     "name": "stdout",
     "output_type": "stream",
     "text": [
      "tensor([[0.7404, 0.2284, 0.5165],\n",
      "        [0.8834, 0.5370, 0.1521],\n",
      "        [0.8448, 0.9655, 0.6923],\n",
      "        [0.8820, 0.0319, 0.6586],\n",
      "        [0.7098, 0.1614, 0.9003]])\n",
      "tensor([1.7404, 1.2284, 1.5165, 1.8834, 1.5370, 1.1521, 1.8448, 1.9655, 1.6923,\n",
      "        1.8820, 1.0319, 1.6586, 1.7098, 1.1614, 1.9003])\n"
     ]
    }
   ],
   "source": [
    "x_cp = x.clone().view(15)\n",
    "x -= 1\n",
    "print(x)\n",
    "print(x_cp)"
   ]
  },
  {
   "cell_type": "markdown",
   "metadata": {},
   "source": [
    "也可以使用copy中deepcopy,但是copy中的copy也是共享内存的"
   ]
  },
  {
   "cell_type": "code",
   "execution_count": 9,
   "metadata": {
    "ExecuteTime": {
     "end_time": "2020-09-10T23:49:00.166551Z",
     "start_time": "2020-09-10T23:49:00.148560Z"
    }
   },
   "outputs": [
    {
     "name": "stdout",
     "output_type": "stream",
     "text": [
      "tensor([[0.0278, 0.0177, 0.2030],\n",
      "        [0.7705, 0.7448, 0.5165],\n",
      "        [0.4383, 0.8849, 0.5802],\n",
      "        [0.4665, 0.7299, 0.2285],\n",
      "        [0.8093, 0.0879, 0.4363]])\n",
      "tensor([[1.0278, 1.0177, 1.2030, 1.7705, 1.7448],\n",
      "        [1.5165, 1.4383, 1.8849, 1.5802, 1.4665],\n",
      "        [1.7299, 1.2285, 1.8093, 1.0879, 1.4363]])\n",
      "tensor([[-0.9722, -0.9823, -0.7970],\n",
      "        [-0.2295, -0.2552, -0.4835],\n",
      "        [-0.5617, -0.1151, -0.4198],\n",
      "        [-0.5335, -0.2701, -0.7715],\n",
      "        [-0.1907, -0.9121, -0.5637]])\n",
      "tensor([-0.9722, -0.9823, -0.7970, -0.2295, -0.2552, -0.4835, -0.5617, -0.1151,\n",
      "        -0.4198, -0.5335, -0.2701, -0.7715, -0.1907, -0.9121, -0.5637])\n"
     ]
    }
   ],
   "source": [
    "import copy\n",
    "\n",
    "# 生成副本\n",
    "x_cp = copy.deepcopy(x).view(-1, 5)\n",
    "x -= 1\n",
    "print(x)\n",
    "print(x_cp)\n",
    "\n",
    "# 共享内存\n",
    "x_cp = copy.copy(x).view(-1)\n",
    "x -= 1\n",
    "print(x)\n",
    "print(x_cp)"
   ]
  },
  {
   "cell_type": "markdown",
   "metadata": {
    "ExecuteTime": {
     "end_time": "2019-12-10T16:51:10.141586Z",
     "start_time": "2019-12-10T16:51:10.134589Z"
    }
   },
   "source": [
    "## 数学运算"
   ]
  },
  {
   "cell_type": "markdown",
   "metadata": {
    "ExecuteTime": {
     "end_time": "2020-09-10T23:52:55.849580Z",
     "start_time": "2020-09-10T23:52:55.843854Z"
    }
   },
   "source": [
    "其中`z = x + y`开辟了新的内存，而下面的操作不开辟新的内存\n",
    "- torch.add(x, y, out=z)\n",
    "- y += x\n",
    "- y.add_(x)"
   ]
  },
  {
   "cell_type": "code",
   "execution_count": 133,
   "metadata": {
    "ExecuteTime": {
     "end_time": "2020-06-07T08:57:43.133882Z",
     "start_time": "2020-06-07T08:57:43.120057Z"
    }
   },
   "outputs": [
    {
     "name": "stdout",
     "output_type": "stream",
     "text": [
      "tensor([[[-1.0837,  1.9122, -1.4507, -2.1941, -1.8207],\n",
      "         [-1.9436,  0.9005, -0.6794,  0.2842, -0.9119],\n",
      "         [ 0.6367,  0.2168, -0.9410, -0.0853,  1.0521],\n",
      "         [-0.2820,  0.2220, -0.5947, -1.4365, -1.2510]],\n",
      "\n",
      "        [[-0.3227,  1.4088,  1.5138, -0.8765,  0.3542],\n",
      "         [ 0.3519, -0.0328, -0.5723,  0.9607,  0.5575],\n",
      "         [-0.0477, -1.0519,  0.7011,  2.5691,  2.3942],\n",
      "         [-0.2730,  2.4384,  0.0421, -0.5520, -0.6590]],\n",
      "\n",
      "        [[-0.2177,  2.1604, -1.6524,  0.3450, -0.2273],\n",
      "         [-1.3503, -3.1832, -0.9251, -0.7037,  1.6392],\n",
      "         [-2.1878, -2.2534, -1.9882,  1.4462,  1.4575],\n",
      "         [ 1.1544, -0.6257, -0.3830,  1.2614,  0.9796]]])\n"
     ]
    }
   ],
   "source": [
    "x = torch.randn(3, 4, 5)\n",
    "y = torch.randn(3, 4, 5)\n",
    "# 逐元素相加\n",
    "z = x + y\n",
    "# z = torch.add(x, y)\n",
    "# torch.add(x, y, out = z)\n",
    "print(z)"
   ]
  },
  {
   "cell_type": "markdown",
   "metadata": {},
   "source": [
    "## inplace操作"
   ]
  },
  {
   "cell_type": "markdown",
   "metadata": {},
   "source": [
    "pytorch中的大多数操作都支持inplace操作，也就是可以直接对tensor进行操作，而不需要另外开辟内存空间（主要方式是在操作符号后加`_`）"
   ]
  },
  {
   "cell_type": "code",
   "execution_count": 11,
   "metadata": {
    "ExecuteTime": {
     "end_time": "2020-09-10T23:55:11.616826Z",
     "start_time": "2020-09-10T23:55:11.599075Z"
    }
   },
   "outputs": [
    {
     "data": {
      "text/plain": [
       "torch.Size([3, 3])"
      ]
     },
     "execution_count": 11,
     "metadata": {},
     "output_type": "execute_result"
    },
    {
     "data": {
      "text/plain": [
       "tensor([[[1., 1., 1.],\n",
       "         [1., 1., 1.],\n",
       "         [1., 1., 1.]]])"
      ]
     },
     "execution_count": 11,
     "metadata": {},
     "output_type": "execute_result"
    },
    {
     "data": {
      "text/plain": [
       "torch.Size([3, 3])"
      ]
     },
     "execution_count": 11,
     "metadata": {},
     "output_type": "execute_result"
    },
    {
     "data": {
      "text/plain": [
       "tensor([[[1., 1., 1.],\n",
       "         [1., 1., 1.],\n",
       "         [1., 1., 1.]]])"
      ]
     },
     "execution_count": 11,
     "metadata": {},
     "output_type": "execute_result"
    },
    {
     "data": {
      "text/plain": [
       "torch.Size([1, 3, 3])"
      ]
     },
     "execution_count": 11,
     "metadata": {},
     "output_type": "execute_result"
    },
    {
     "name": "stdout",
     "output_type": "stream",
     "text": [
      "140528513267200\n"
     ]
    },
    {
     "data": {
      "text/plain": [
       "tensor([[[ 0.9750,  0.2914, -1.5007,  2.9147,  0.7244],\n",
       "         [-0.5600,  0.2969,  1.3906,  0.2609, -1.1973],\n",
       "         [ 0.9821,  1.4189,  1.9104,  3.1828,  1.3301],\n",
       "         [ 1.2113,  1.0932, -0.8888, -0.1718, -0.7207]],\n",
       "\n",
       "        [[ 0.2469,  3.4556, -0.1150, -2.7583,  2.7034],\n",
       "         [ 0.2620,  1.2338, -1.3607,  2.2496,  0.6555],\n",
       "         [-0.7741, -0.0154, -0.8406, -1.4441, -0.0057],\n",
       "         [-2.9407,  1.9480, -2.8179, -1.6443,  1.9786]],\n",
       "\n",
       "        [[-2.3128,  1.8683,  0.2282, -2.1158,  0.4133],\n",
       "         [ 0.3895,  0.1510, -0.6240,  0.1450,  2.0349],\n",
       "         [-1.3015, -1.3838, -2.0053, -1.4354,  1.8697],\n",
       "         [-1.5246, -0.4690,  0.8338, -0.3727, -1.4815]]])"
      ]
     },
     "execution_count": 11,
     "metadata": {},
     "output_type": "execute_result"
    },
    {
     "name": "stdout",
     "output_type": "stream",
     "text": [
      "140528513267200\n"
     ]
    }
   ],
   "source": [
    "x = torch.ones(3, 3)\n",
    "x.shape\n",
    "\n",
    "# 往第一维中插入\n",
    "x.unsqueeze(0)\n",
    "x.shape\n",
    "x.unsqueeze_(0)\n",
    "x.shape\n",
    "\n",
    "# 直接把加法的结果替换，add_直接共享内存，不会开辟新的内存空间\n",
    "x = torch.randn(3, 4, 5)\n",
    "print(id(x))\n",
    "y = torch.randn(3, 4, 5)\n",
    "x.add_(y)\n",
    "print(id(x))"
   ]
  },
  {
   "cell_type": "markdown",
   "metadata": {},
   "source": [
    "## 切片"
   ]
  },
  {
   "cell_type": "markdown",
   "metadata": {},
   "source": [
    "索引出来的结果与原来的数据共享内存，即修改一个，另一个也会跟着修改"
   ]
  },
  {
   "cell_type": "code",
   "execution_count": 135,
   "metadata": {
    "ExecuteTime": {
     "end_time": "2020-06-07T08:59:53.736234Z",
     "start_time": "2020-06-07T08:59:53.727890Z"
    }
   },
   "outputs": [
    {
     "data": {
      "text/plain": [
       "'torch.FloatTensor'"
      ]
     },
     "execution_count": 135,
     "metadata": {},
     "output_type": "execute_result"
    },
    {
     "data": {
      "text/plain": [
       "tensor([[1., 1., 1., 1.],\n",
       "        [1., 1., 1., 1.],\n",
       "        [1., 1., 1., 1.],\n",
       "        [1., 1., 1., 1.]])"
      ]
     },
     "execution_count": 135,
     "metadata": {},
     "output_type": "execute_result"
    }
   ],
   "source": [
    "# 创建float32， 4*4的全威1的矩阵\n",
    "x = torch.ones(4,4).float()\n",
    "x = torch.ones(4,4)\n",
    "x.type()\n",
    "x"
   ]
  },
  {
   "cell_type": "code",
   "execution_count": 136,
   "metadata": {
    "ExecuteTime": {
     "end_time": "2020-06-07T08:59:59.023396Z",
     "start_time": "2020-06-07T08:59:59.007797Z"
    }
   },
   "outputs": [
    {
     "data": {
      "text/plain": [
       "tensor([[1., 1., 1., 1.],\n",
       "        [1., 2., 2., 1.],\n",
       "        [1., 2., 2., 1.],\n",
       "        [1., 1., 1., 1.]])"
      ]
     },
     "execution_count": 136,
     "metadata": {},
     "output_type": "execute_result"
    }
   ],
   "source": [
    "x[1:3, 1:3] = 2\n",
    "x"
   ]
  },
  {
   "cell_type": "code",
   "execution_count": 4,
   "metadata": {
    "ExecuteTime": {
     "end_time": "2020-09-30T05:44:30.817755Z",
     "start_time": "2020-09-30T05:44:30.808373Z"
    }
   },
   "outputs": [
    {
     "name": "stdout",
     "output_type": "stream",
     "text": [
      "tensor([[0.4341, 0.0376, 0.8235],\n",
      "        [0.9556, 0.3157, 0.5812],\n",
      "        [0.2285, 0.5507, 0.3291],\n",
      "        [0.5354, 0.7719, 0.7741],\n",
      "        [0.0585, 0.6179, 0.1678]])\n"
     ]
    },
    {
     "data": {
      "text/plain": [
       "tensor([[0.4341, 0.8235],\n",
       "        [0.9556, 0.5812],\n",
       "        [0.2285, 0.3291],\n",
       "        [0.5354, 0.7741],\n",
       "        [0.0585, 0.1678]])"
      ]
     },
     "execution_count": 4,
     "metadata": {},
     "output_type": "execute_result"
    },
    {
     "data": {
      "text/plain": [
       "tensor([[0.4341, 0.0376, 0.8235],\n",
       "        [0.0585, 0.6179, 0.1678]])"
      ]
     },
     "execution_count": 4,
     "metadata": {},
     "output_type": "execute_result"
    }
   ],
   "source": [
    "# 其他torch.api\n",
    "# index_select，选取的index需要传入tensor\n",
    "x = torch.rand(5, 3)\n",
    "print(x)\n",
    "# 选取列\n",
    "torch.index_select(x, 1, torch.tensor([0, 2]))\n",
    "# 选取行\n",
    "torch.index_select(x, 0, torch.tensor([0, 4]))"
   ]
  },
  {
   "cell_type": "code",
   "execution_count": 32,
   "metadata": {
    "ExecuteTime": {
     "end_time": "2020-09-11T00:11:10.574689Z",
     "start_time": "2020-09-11T00:11:10.563136Z"
    }
   },
   "outputs": [
    {
     "data": {
      "text/plain": [
       "tensor([0.6128, 0.7451, 0.6096, 0.7555, 0.8958, 0.6263, 0.7740, 0.7351, 0.7721,\n",
       "        0.9113])"
      ]
     },
     "execution_count": 32,
     "metadata": {},
     "output_type": "execute_result"
    },
    {
     "name": "stdout",
     "output_type": "stream",
     "text": [
      "tensor([0.6128, 0.7451, 0.6096, 0.7555, 0.8958, 0.6263, 0.7740, 0.7351, 0.7721,\n",
      "        0.9113])\n"
     ]
    }
   ],
   "source": [
    "# masked_select---> 等价于a[condition]，返回的都是一维的向量\n",
    "x = torch.rand(5, 3)\n",
    "torch.masked_select(x, x>0.5)\n",
    "\n",
    "print(x[x>0.5])"
   ]
  },
  {
   "cell_type": "code",
   "execution_count": 14,
   "metadata": {
    "ExecuteTime": {
     "end_time": "2020-09-30T05:57:14.537371Z",
     "start_time": "2020-09-30T05:57:14.516631Z"
    }
   },
   "outputs": [
    {
     "name": "stdout",
     "output_type": "stream",
     "text": [
      "tensor([[0.3052, 0.9069, 0.2018],\n",
      "        [0.5016, 0.7584, 0.3561],\n",
      "        [0.7069, 0.1316, 0.6411],\n",
      "        [0.4593, 0.2725, 0.4060],\n",
      "        [0.8283, 0.6916, 0.6793]])\n"
     ]
    },
    {
     "data": {
      "text/plain": [
       "tensor([[0.3052, 0.7584, 0.6411],\n",
       "        [0.7069, 0.2725, 0.6793],\n",
       "        [0.3052, 0.1316, 0.6793]])"
      ]
     },
     "execution_count": 14,
     "metadata": {},
     "output_type": "execute_result"
    },
    {
     "data": {
      "text/plain": [
       "tensor([[0.9069, 0.2018, 0.3052, 0.9069, 0.2018]])"
      ]
     },
     "execution_count": 14,
     "metadata": {},
     "output_type": "execute_result"
    }
   ],
   "source": [
    "# gather---> 用于提取元素\n",
    "x = torch.rand(5, 3)\n",
    "print(x)\n",
    "\n",
    "# 原理，详细见博客https://www.cnblogs.com/liangjianli/p/13754817.html\n",
    "x.gather(0, torch.tensor([[0, 1, 2], [2, 3, 4], [0, 2, 4]]))\n",
    "x.gather(1, torch.tensor([[1, 2, 0, 1, 2]]))"
   ]
  },
  {
   "cell_type": "code",
   "execution_count": 34,
   "metadata": {
    "ExecuteTime": {
     "end_time": "2020-09-11T00:13:18.139871Z",
     "start_time": "2020-09-11T00:13:18.132238Z"
    }
   },
   "outputs": [
    {
     "name": "stderr",
     "output_type": "stream",
     "text": [
      "<ipython-input-34-1fd7a7554e37>:4: UserWarning: This overload of nonzero is deprecated:\n",
      "\tnonzero(Tensor input, *, Tensor out)\n",
      "Consider using one of the following signatures instead:\n",
      "\tnonzero(Tensor input, *, bool as_tuple) (Triggered internally at  /pytorch/torch/csrc/utils/python_arg_parser.cpp:766.)\n",
      "  torch.nonzero(x)\n"
     ]
    },
    {
     "data": {
      "text/plain": [
       "tensor([[0, 0],\n",
       "        [1, 1],\n",
       "        [2, 2]])"
      ]
     },
     "execution_count": 34,
     "metadata": {},
     "output_type": "execute_result"
    }
   ],
   "source": [
    "# 提取非零元素的下标\n",
    "x = torch.eye(3)\n",
    "\n",
    "torch.nonzero(x)"
   ]
  },
  {
   "cell_type": "code",
   "execution_count": 42,
   "metadata": {
    "ExecuteTime": {
     "end_time": "2020-09-11T00:16:48.751765Z",
     "start_time": "2020-09-11T00:16:48.745928Z"
    }
   },
   "outputs": [
    {
     "name": "stdout",
     "output_type": "stream",
     "text": [
      "tensor([[1, 1],\n",
      "        [3, 4]])\n"
     ]
    },
    {
     "data": {
      "text/plain": [
       "tensor([[1, 1],\n",
       "        [4, 3]])"
      ]
     },
     "execution_count": 42,
     "metadata": {},
     "output_type": "execute_result"
    }
   ],
   "source": [
    "# gather---根据所选的元素从dim上选取元素，输出size和index一样\n",
    "x = torch.tensor([[1, 1], [3, 4]])\n",
    "print(x)\n",
    "\n",
    "torch.gather(x, 1, torch.tensor([[1, 1], [1, 0]]))"
   ]
  },
  {
   "cell_type": "markdown",
   "metadata": {},
   "source": [
    "## 标量-->数字"
   ]
  },
  {
   "cell_type": "markdown",
   "metadata": {
    "ExecuteTime": {
     "end_time": "2020-06-07T10:15:42.495583Z",
     "start_time": "2020-06-07T10:15:42.490503Z"
    }
   },
   "source": [
    "使用`item()`可以将一个标量tensor转化为数字,numpy中也能使用item()来提取数字"
   ]
  },
  {
   "cell_type": "code",
   "execution_count": 203,
   "metadata": {
    "ExecuteTime": {
     "end_time": "2020-06-07T10:16:58.616952Z",
     "start_time": "2020-06-07T10:16:58.611099Z"
    }
   },
   "outputs": [
    {
     "name": "stdout",
     "output_type": "stream",
     "text": [
      "tensor([0.3360])\n",
      "0.3359619379043579\n",
      "tensor(0.3360)\n"
     ]
    }
   ],
   "source": [
    "x = torch.rand(1)\n",
    "print(x)\n",
    "print(x.item())\n",
    "print(x[0])"
   ]
  },
  {
   "cell_type": "code",
   "execution_count": 204,
   "metadata": {
    "ExecuteTime": {
     "end_time": "2020-06-07T10:17:07.888563Z",
     "start_time": "2020-06-07T10:17:07.883206Z"
    }
   },
   "outputs": [
    {
     "name": "stdout",
     "output_type": "stream",
     "text": [
      "[0.57324076]\n",
      "0.5732407600950203\n",
      "0.5732407600950203\n"
     ]
    }
   ],
   "source": [
    "x = np.random.rand(1)\n",
    "print(x)\n",
    "print(x.item())\n",
    "print(x[0])"
   ]
  },
  {
   "cell_type": "markdown",
   "metadata": {},
   "source": [
    "## 线性代数"
   ]
  },
  {
   "cell_type": "markdown",
   "metadata": {},
   "source": [
    "### 迹"
   ]
  },
  {
   "cell_type": "code",
   "execution_count": 209,
   "metadata": {
    "ExecuteTime": {
     "end_time": "2020-06-07T10:19:34.136561Z",
     "start_time": "2020-06-07T10:19:34.120626Z"
    }
   },
   "outputs": [
    {
     "name": "stdout",
     "output_type": "stream",
     "text": [
      "tensor([[0.0237, 0.5428, 0.6074],\n",
      "        [0.8728, 0.9888, 0.2751],\n",
      "        [0.1427, 0.5435, 0.9254],\n",
      "        [0.2097, 0.1709, 0.9798],\n",
      "        [0.7734, 0.7025, 0.0521]])\n",
      "tensor(1.9379)\n",
      "tensor(1.9379)\n"
     ]
    }
   ],
   "source": [
    "x = torch.rand(5, 3)\n",
    "print(x)\n",
    "print(x.trace())\n",
    "print(torch.trace(x))"
   ]
  },
  {
   "cell_type": "code",
   "execution_count": 210,
   "metadata": {
    "ExecuteTime": {
     "end_time": "2020-06-07T10:20:03.488504Z",
     "start_time": "2020-06-07T10:20:03.481189Z"
    }
   },
   "outputs": [
    {
     "name": "stdout",
     "output_type": "stream",
     "text": [
      "[[0.81376254 0.76238842 0.99156808]\n",
      " [0.48358805 0.86630164 0.3931304 ]\n",
      " [0.95653245 0.19977048 0.42467857]\n",
      " [0.3110605  0.18694454 0.21458425]\n",
      " [0.05388535 0.44469885 0.84016579]]\n",
      "2.1047427465298685\n",
      "2.1047427465298685\n"
     ]
    }
   ],
   "source": [
    "x = np.random.rand(5, 3)\n",
    "print(x)\n",
    "print(x.trace())\n",
    "print(np.trace(x))"
   ]
  },
  {
   "cell_type": "markdown",
   "metadata": {},
   "source": [
    "### 对角线元素/对角矩阵"
   ]
  },
  {
   "cell_type": "markdown",
   "metadata": {
    "ExecuteTime": {
     "end_time": "2020-06-07T10:22:29.614096Z",
     "start_time": "2020-06-07T10:22:29.598848Z"
    }
   },
   "source": [
    "对角线元素"
   ]
  },
  {
   "cell_type": "code",
   "execution_count": 211,
   "metadata": {
    "ExecuteTime": {
     "end_time": "2020-06-07T10:20:56.715394Z",
     "start_time": "2020-06-07T10:20:56.708610Z"
    }
   },
   "outputs": [
    {
     "name": "stdout",
     "output_type": "stream",
     "text": [
      "tensor([[0.1877, 0.2240, 0.8132],\n",
      "        [0.3215, 0.7488, 0.0959],\n",
      "        [0.6703, 0.5663, 0.6762],\n",
      "        [0.5030, 0.5591, 0.8054],\n",
      "        [0.0102, 0.4908, 0.5912]])\n",
      "tensor([0.1877, 0.7488, 0.6762])\n",
      "tensor([0.1877, 0.7488, 0.6762])\n"
     ]
    }
   ],
   "source": [
    "x = torch.rand(5, 3)\n",
    "print(x)\n",
    "print(x.diag())\n",
    "print(torch.diag(x))"
   ]
  },
  {
   "cell_type": "code",
   "execution_count": 215,
   "metadata": {
    "ExecuteTime": {
     "end_time": "2020-06-07T10:22:15.663564Z",
     "start_time": "2020-06-07T10:22:15.657320Z"
    }
   },
   "outputs": [
    {
     "name": "stdout",
     "output_type": "stream",
     "text": [
      "[[0.08092655 0.72415287 0.1216376 ]\n",
      " [0.49290147 0.35233845 0.36669948]\n",
      " [0.68428909 0.12657537 0.07762409]\n",
      " [0.07164082 0.09541006 0.75712649]\n",
      " [0.76717784 0.93085457 0.97612199]]\n",
      "\n",
      "\n",
      "[0.08092655 0.35233845 0.07762409]\n"
     ]
    }
   ],
   "source": [
    "x = np.random.rand(5, 3)\n",
    "print(x)\n",
    "# numpy没有x.diag()的写法\n",
    "print(\"\\n\")\n",
    "print(np.diag(x))"
   ]
  },
  {
   "cell_type": "markdown",
   "metadata": {
    "ExecuteTime": {
     "end_time": "2020-06-07T10:22:37.020699Z",
     "start_time": "2020-06-07T10:22:37.002619Z"
    }
   },
   "source": [
    "对角矩阵"
   ]
  },
  {
   "cell_type": "code",
   "execution_count": 229,
   "metadata": {
    "ExecuteTime": {
     "end_time": "2020-06-07T10:25:21.199613Z",
     "start_time": "2020-06-07T10:25:21.192285Z"
    }
   },
   "outputs": [
    {
     "name": "stdout",
     "output_type": "stream",
     "text": [
      "tensor([0.1339, 0.2539, 0.1360])\n",
      "tensor([[0.1339, 0.0000, 0.0000],\n",
      "        [0.0000, 0.2539, 0.0000],\n",
      "        [0.0000, 0.0000, 0.1360]])\n",
      "tensor([[0.0000, 0.0000, 0.1339, 0.0000, 0.0000],\n",
      "        [0.0000, 0.0000, 0.0000, 0.2539, 0.0000],\n",
      "        [0.0000, 0.0000, 0.0000, 0.0000, 0.1360],\n",
      "        [0.0000, 0.0000, 0.0000, 0.0000, 0.0000],\n",
      "        [0.0000, 0.0000, 0.0000, 0.0000, 0.0000]])\n"
     ]
    }
   ],
   "source": [
    "x = torch.rand(3)\n",
    "print(x)\n",
    "print(x.diag())\n",
    "# 可以指定偏移量\n",
    "# print(x.diag(3))\n",
    "print(torch.diag(x, 2))"
   ]
  },
  {
   "cell_type": "code",
   "execution_count": 230,
   "metadata": {
    "ExecuteTime": {
     "end_time": "2020-06-07T10:26:03.823811Z",
     "start_time": "2020-06-07T10:26:03.817637Z"
    }
   },
   "outputs": [
    {
     "name": "stdout",
     "output_type": "stream",
     "text": [
      "[0.81616703 0.3394489  0.66242787]\n",
      "[[0.81616703 0.         0.        ]\n",
      " [0.         0.3394489  0.        ]\n",
      " [0.         0.         0.66242787]]\n",
      "[[0.         0.         0.         0.        ]\n",
      " [0.81616703 0.         0.         0.        ]\n",
      " [0.         0.3394489  0.         0.        ]\n",
      " [0.         0.         0.66242787 0.        ]]\n"
     ]
    }
   ],
   "source": [
    "x = np.random.rand(3)\n",
    "print(x)\n",
    "print(np.diag(x))\n",
    "# 指定偏移量\n",
    "print(np.diag(x, -1))"
   ]
  },
  {
   "cell_type": "markdown",
   "metadata": {},
   "source": [
    "### 上下三角矩阵"
   ]
  },
  {
   "cell_type": "markdown",
   "metadata": {},
   "source": [
    "见[三角矩阵](#三角矩阵)"
   ]
  },
  {
   "cell_type": "markdown",
   "metadata": {},
   "source": [
    "### 矩阵乘法/batch矩阵乘法"
   ]
  },
  {
   "cell_type": "markdown",
   "metadata": {
    "ExecuteTime": {
     "end_time": "2020-06-07T10:29:48.731663Z",
     "start_time": "2020-06-07T10:29:48.721822Z"
    }
   },
   "source": [
    "`mm`可以使用矩阵乘法"
   ]
  },
  {
   "cell_type": "code",
   "execution_count": 234,
   "metadata": {
    "ExecuteTime": {
     "end_time": "2020-06-07T10:30:11.424990Z",
     "start_time": "2020-06-07T10:30:11.401694Z"
    }
   },
   "outputs": [
    {
     "name": "stdout",
     "output_type": "stream",
     "text": [
      "tensor([[1, 2],\n",
      "        [3, 4]])\n",
      "tensor([[2, 3],\n",
      "        [1, 2]])\n"
     ]
    },
    {
     "data": {
      "text/plain": [
       "tensor([[ 4,  7],\n",
       "        [10, 17]])"
      ]
     },
     "execution_count": 234,
     "metadata": {},
     "output_type": "execute_result"
    }
   ],
   "source": [
    "x = torch.tensor([[1, 2], [3, 4]])\n",
    "y = torch.tensor([[2, 3], [1, 2]])\n",
    "print(x)\n",
    "print(y)\n",
    "\n",
    "torch.mm(x, y)"
   ]
  },
  {
   "cell_type": "markdown",
   "metadata": {},
   "source": [
    "`bmm`为batch的矩阵乘法\n",
    "- 下例中，每个batch中，3*4的矩阵和4*3矩阵做矩阵乘法"
   ]
  },
  {
   "cell_type": "code",
   "execution_count": 13,
   "metadata": {
    "ExecuteTime": {
     "end_time": "2020-09-10T23:58:41.758362Z",
     "start_time": "2020-09-10T23:58:41.740535Z"
    }
   },
   "outputs": [
    {
     "name": "stdout",
     "output_type": "stream",
     "text": [
      "tensor([[[ 0,  1,  2,  3],\n",
      "         [ 4,  5,  6,  7],\n",
      "         [ 8,  9, 10, 11]],\n",
      "\n",
      "        [[12, 13, 14, 15],\n",
      "         [16, 17, 18, 19],\n",
      "         [20, 21, 22, 23]]])\n",
      "tensor([[[ 1,  9,  0],\n",
      "         [10, 13, 22],\n",
      "         [16,  3, 15],\n",
      "         [17,  2,  8]],\n",
      "\n",
      "        [[20, 18, 14],\n",
      "         [ 5,  4, 23],\n",
      "         [19,  6, 12],\n",
      "         [21, 11,  7]]])\n"
     ]
    },
    {
     "data": {
      "text/plain": [
       "tensor([[[  93,   25,   76],\n",
       "         [ 269,  133,  256],\n",
       "         [ 445,  241,  436]],\n",
       "\n",
       "        [[ 886,  517,  740],\n",
       "         [1146,  673,  964],\n",
       "         [1406,  829, 1188]]])"
      ]
     },
     "execution_count": 13,
     "metadata": {},
     "output_type": "execute_result"
    }
   ],
   "source": [
    "x = torch.arange(24)\n",
    "y = torch.randperm(24)\n",
    "x = x.reshape(2, 3, 4)\n",
    "y = y.reshape(2, 4, 3)\n",
    "print(x)\n",
    "print(y)\n",
    "\n",
    "torch.bmm(x, y)"
   ]
  },
  {
   "cell_type": "markdown",
   "metadata": {},
   "source": [
    "### 向量运算"
   ]
  },
  {
   "cell_type": "code",
   "execution_count": 44,
   "metadata": {
    "ExecuteTime": {
     "end_time": "2020-09-11T00:19:14.692843Z",
     "start_time": "2020-09-11T00:19:14.688495Z"
    }
   },
   "outputs": [
    {
     "name": "stdout",
     "output_type": "stream",
     "text": [
      "tensor([[0.7738, 0.3894, 0.6237],\n",
      "        [0.8898, 0.6503, 0.9661]])\n",
      "tensor([0.5696, 0.3049, 0.4413])\n"
     ]
    }
   ],
   "source": [
    "x = torch.rand(2, 3)\n",
    "y = torch.rand(3)\n",
    "print(x)\n",
    "print(y)"
   ]
  },
  {
   "cell_type": "code",
   "execution_count": 47,
   "metadata": {
    "ExecuteTime": {
     "end_time": "2020-09-11T00:19:49.516861Z",
     "start_time": "2020-09-11T00:19:49.498772Z"
    }
   },
   "outputs": [
    {
     "name": "stdout",
     "output_type": "stream",
     "text": [
      "tensor([0.8347, 1.1314])\n",
      "tensor([0.8347, 1.1314])\n"
     ]
    }
   ],
   "source": [
    "# 矩阵和向量做乘法\n",
    "print(torch.mv(x, y))\n",
    "print(torch.mm(x, y.unsqueeze(1)).reshape(-1))"
   ]
  },
  {
   "cell_type": "markdown",
   "metadata": {},
   "source": [
    "### 矩阵运算"
   ]
  },
  {
   "cell_type": "markdown",
   "metadata": {},
   "source": [
    "#### addmm/addbmm"
   ]
  },
  {
   "cell_type": "markdown",
   "metadata": {
    "ExecuteTime": {
     "end_time": "2020-06-07T10:41:27.803142Z",
     "start_time": "2020-06-07T10:41:27.797846Z"
    }
   },
   "source": [
    "addmm(beta=1, input, alpha=1, mat1, mat2, out=None) -> Tensor"
   ]
  },
  {
   "cell_type": "markdown",
   "metadata": {},
   "source": [
    "结果为：beta和矩阵input相乘 + alpha和（矩阵1和矩阵2相乘结果）相乘\n",
    "$$\\text{out} = \\beta\\ \\text{input} + \\alpha\\ (\\text{mat1}_i \\mathbin{@} \\text{mat2}_i)$$\n",
    "- 可以用在像$y = w^Tx+b$"
   ]
  },
  {
   "cell_type": "code",
   "execution_count": 249,
   "metadata": {
    "ExecuteTime": {
     "end_time": "2020-06-07T10:54:32.503355Z",
     "start_time": "2020-06-07T10:54:32.487008Z"
    }
   },
   "outputs": [
    {
     "name": "stdout",
     "output_type": "stream",
     "text": [
      "tensor([[2., 1.],\n",
      "        [2., 2.]])\n"
     ]
    }
   ],
   "source": [
    "x = torch.ones(2, 2)\n",
    "# 需要转一下类型\n",
    "y = torch.tensor([[1, 0], [0, 1]]).float()\n",
    "z = torch.tensor([[1, 0], [1, 1]]).float()\n",
    "out = torch.addmm(x, y, z)\n",
    "print(out)"
   ]
  },
  {
   "cell_type": "code",
   "execution_count": 250,
   "metadata": {
    "ExecuteTime": {
     "end_time": "2020-06-07T10:54:50.724641Z",
     "start_time": "2020-06-07T10:54:50.709819Z"
    }
   },
   "outputs": [
    {
     "data": {
      "text/plain": [
       "tensor([[2., 1.],\n",
       "        [2., 2.]])"
      ]
     },
     "execution_count": 250,
     "metadata": {},
     "output_type": "execute_result"
    }
   ],
   "source": [
    "x + torch.mm(y, z)"
   ]
  },
  {
   "cell_type": "markdown",
   "metadata": {},
   "source": [
    "`addbmm`是`addmm`的矩阵乘法中的batch版本 <br/>\n",
    "`baddbmm`是`addmm`的矩阵乘法和加法中的batch版本"
   ]
  },
  {
   "cell_type": "markdown",
   "metadata": {},
   "source": [
    "#### addmv"
   ]
  },
  {
   "cell_type": "markdown",
   "metadata": {},
   "source": [
    "addmv(beta=1, input, alpha=1, mat, vec, out=None) -> Tensor"
   ]
  },
  {
   "cell_type": "markdown",
   "metadata": {
    "ExecuteTime": {
     "end_time": "2020-06-07T10:57:57.160001Z",
     "start_time": "2020-06-07T10:57:57.154692Z"
    }
   },
   "source": [
    "结果为：beta和矩阵input相乘 + alpha和（矩阵和向量相乘结果）相乘\n",
    "$$\\text{out} = \\beta\\ \\text{input} + \\alpha\\ (\\text{mat} \\mathbin{@} \\text{vec})$$\n",
    "- 可以用在像$y = w^Tx+b$"
   ]
  },
  {
   "cell_type": "code",
   "execution_count": 255,
   "metadata": {
    "ExecuteTime": {
     "end_time": "2020-06-07T10:58:26.481196Z",
     "start_time": "2020-06-07T10:58:26.474419Z"
    }
   },
   "outputs": [
    {
     "data": {
      "text/plain": [
       "tensor([-2.0699,  1.2932])"
      ]
     },
     "execution_count": 255,
     "metadata": {},
     "output_type": "execute_result"
    }
   ],
   "source": [
    "M = torch.randn(2)\n",
    "mat = torch.randn(2, 3)\n",
    "vec = torch.randn(3)\n",
    "torch.addmv(M, mat, vec)"
   ]
  },
  {
   "cell_type": "code",
   "execution_count": 267,
   "metadata": {
    "ExecuteTime": {
     "end_time": "2020-06-07T11:04:03.378289Z",
     "start_time": "2020-06-07T11:04:03.363324Z"
    }
   },
   "outputs": [
    {
     "data": {
      "text/plain": [
       "tensor([-2.0699,  1.2932])"
      ]
     },
     "execution_count": 267,
     "metadata": {},
     "output_type": "execute_result"
    },
    {
     "data": {
      "text/plain": [
       "tensor([-2.0699,  1.2932])"
      ]
     },
     "execution_count": 267,
     "metadata": {},
     "output_type": "execute_result"
    }
   ],
   "source": [
    "M + torch.mm(mat, vec.unsqueeze(1)).squeeze(1)\n",
    "M + torch.mv(mat, vec)"
   ]
  },
  {
   "cell_type": "markdown",
   "metadata": {},
   "source": [
    "#### addr"
   ]
  },
  {
   "cell_type": "markdown",
   "metadata": {},
   "source": [
    "addr(beta=1, input, alpha=1, vec1, vec2, out=None) -> Tensor"
   ]
  },
  {
   "cell_type": "markdown",
   "metadata": {},
   "source": [
    "结果为：beta和矩阵input相乘 + alpha和（向量1和向量2相乘结果）相乘\n",
    "$$ \\text{out} = \\beta\\ \\text{input} + \\alpha\\ (\\text{vec1} \\otimes \\text{vec2})$$\n",
    "- 矩阵/向量1和向量2的类型要一致"
   ]
  },
  {
   "cell_type": "code",
   "execution_count": 50,
   "metadata": {
    "ExecuteTime": {
     "end_time": "2020-09-11T00:23:37.446534Z",
     "start_time": "2020-09-11T00:23:37.437351Z"
    }
   },
   "outputs": [
    {
     "data": {
      "text/plain": [
       "tensor([[1., 2.],\n",
       "        [2., 4.],\n",
       "        [3., 6.]])"
      ]
     },
     "execution_count": 50,
     "metadata": {},
     "output_type": "execute_result"
    }
   ],
   "source": [
    "vec1 = torch.arange(1., 4.)\n",
    "vec2 = torch.arange(1., 3.)\n",
    "M = torch.zeros(3, 2)\n",
    "torch.addr(M, vec1, vec2)"
   ]
  },
  {
   "cell_type": "code",
   "execution_count": 58,
   "metadata": {
    "ExecuteTime": {
     "end_time": "2020-09-11T00:27:09.580539Z",
     "start_time": "2020-09-11T00:27:09.564122Z"
    }
   },
   "outputs": [
    {
     "data": {
      "text/plain": [
       "tensor([[1., 2.],\n",
       "        [2., 4.],\n",
       "        [3., 6.]])"
      ]
     },
     "execution_count": 58,
     "metadata": {},
     "output_type": "execute_result"
    },
    {
     "data": {
      "text/plain": [
       "tensor([[1., 2.],\n",
       "        [2., 4.],\n",
       "        [3., 6.]])"
      ]
     },
     "execution_count": 58,
     "metadata": {},
     "output_type": "execute_result"
    }
   ],
   "source": [
    "M + torch.mm(vec1.unsqueeze(1), vec2.unsqueeze(0))\n",
    "\n",
    "torch.from_numpy(np.outer(vec1.numpy(), vec2.numpy()))"
   ]
  },
  {
   "cell_type": "markdown",
   "metadata": {},
   "source": [
    "#### 转置"
   ]
  },
  {
   "cell_type": "markdown",
   "metadata": {
    "ExecuteTime": {
     "end_time": "2020-06-07T11:16:08.729509Z",
     "start_time": "2020-06-07T11:16:08.719221Z"
    }
   },
   "source": [
    "- tensor:可以直接使用`t()`/`T`,使用`transpose`来进行二维的转置，使用`permute`来进行多维度的交换\n",
    "- numpy可以使用`transpose`进行多维度的交换，使用`T`进行二维转置，也可以使用swapaxes\n",
    "\n",
    "[维度交换](#维度交换)"
   ]
  },
  {
   "cell_type": "code",
   "execution_count": 285,
   "metadata": {
    "ExecuteTime": {
     "end_time": "2020-06-07T11:16:14.919853Z",
     "start_time": "2020-06-07T11:16:14.912896Z"
    }
   },
   "outputs": [
    {
     "data": {
      "text/plain": [
       "torch.Size([5, 3])"
      ]
     },
     "execution_count": 285,
     "metadata": {},
     "output_type": "execute_result"
    }
   ],
   "source": [
    "torch.t(torch.rand(3, 5)).shape"
   ]
  },
  {
   "cell_type": "code",
   "execution_count": 7,
   "metadata": {
    "ExecuteTime": {
     "end_time": "2020-06-08T03:38:01.656438Z",
     "start_time": "2020-06-08T03:38:01.648686Z"
    }
   },
   "outputs": [
    {
     "data": {
      "text/plain": [
       "tensor([[0.2578, 0.7408, 0.0133],\n",
       "        [0.6008, 0.1251, 0.4356],\n",
       "        [0.0326, 0.7654, 0.3641],\n",
       "        [0.7315, 0.2744, 0.5772]])"
      ]
     },
     "execution_count": 7,
     "metadata": {},
     "output_type": "execute_result"
    },
    {
     "data": {
      "text/plain": [
       "tensor([[[9.2973e-01, 9.0370e-01, 3.9602e-02, 5.2427e-01],\n",
       "         [3.1564e-02, 8.7392e-01, 1.4451e-01, 7.5879e-01],\n",
       "         [2.6843e-01, 6.1359e-02, 7.7782e-01, 8.5072e-01]],\n",
       "\n",
       "        [[6.7417e-01, 4.2999e-02, 5.6379e-01, 8.0905e-01],\n",
       "         [6.7971e-01, 7.4183e-01, 9.5340e-01, 8.2229e-02],\n",
       "         [3.6911e-01, 9.9785e-01, 3.0493e-01, 2.8164e-01]],\n",
       "\n",
       "        [[9.3270e-02, 3.6812e-01, 3.0347e-01, 9.0671e-01],\n",
       "         [5.5641e-01, 5.3312e-01, 4.8666e-01, 7.0904e-01],\n",
       "         [1.7235e-01, 4.9953e-01, 5.3383e-01, 5.8590e-01]],\n",
       "\n",
       "        [[4.1103e-04, 4.6525e-02, 9.9139e-02, 5.4942e-01],\n",
       "         [1.2623e-01, 6.8722e-01, 8.3579e-01, 5.4860e-01],\n",
       "         [4.3011e-01, 6.9214e-02, 4.4422e-01, 5.9481e-02]],\n",
       "\n",
       "        [[9.5017e-01, 7.4955e-01, 6.2478e-01, 2.2611e-01],\n",
       "         [5.2134e-01, 4.1514e-01, 8.7336e-01, 1.6659e-01],\n",
       "         [1.6499e-01, 8.0911e-01, 2.4289e-01, 1.1226e-01]]])"
      ]
     },
     "execution_count": 7,
     "metadata": {},
     "output_type": "execute_result"
    }
   ],
   "source": [
    "torch.rand(3, 4).transpose(1, 0)\n",
    "torch.rand(3, 4, 5).permute(2, 0, 1)"
   ]
  },
  {
   "cell_type": "code",
   "execution_count": 10,
   "metadata": {
    "ExecuteTime": {
     "end_time": "2020-06-08T03:39:48.026490Z",
     "start_time": "2020-06-08T03:39:48.019543Z"
    }
   },
   "outputs": [
    {
     "data": {
      "text/plain": [
       "array([[0.2325947 , 0.7621577 , 0.74547016],\n",
       "       [0.0945238 , 0.19985226, 0.83723881],\n",
       "       [0.72133085, 0.54189478, 0.91743061],\n",
       "       [0.11263307, 0.26136302, 0.87072431]])"
      ]
     },
     "execution_count": 10,
     "metadata": {},
     "output_type": "execute_result"
    }
   ],
   "source": [
    "np.random.rand(3, 4).T"
   ]
  },
  {
   "cell_type": "markdown",
   "metadata": {},
   "source": [
    "#### 点积与外积"
   ]
  },
  {
   "cell_type": "code",
   "execution_count": 25,
   "metadata": {
    "ExecuteTime": {
     "end_time": "2020-06-08T03:50:21.919391Z",
     "start_time": "2020-06-08T03:50:21.906033Z"
    }
   },
   "outputs": [
    {
     "data": {
      "text/plain": [
       "<torch._C.Generator object at 0x7f955f42b5b0>"
      ]
     },
     "execution_count": 25,
     "metadata": {},
     "output_type": "execute_result"
    },
    {
     "name": "stdout",
     "output_type": "stream",
     "text": [
      "tensor([0.4869, 0.1052, 0.5883])\n",
      "tensor([0.1161, 0.4949, 0.2824])\n",
      "tensor(0.2747)\n",
      "tensor(0.2747)\n",
      "tensor([-0.2614, -0.0691,  0.2287])\n",
      "tensor([-0.2614, -0.0691,  0.2287])\n"
     ]
    }
   ],
   "source": [
    "# 随机数种子\n",
    "torch.manual_seed(2020)\n",
    "\n",
    "vec1 = torch.rand(3)\n",
    "vec2 = torch.rand(3)\n",
    "print(vec1)\n",
    "print(vec2)\n",
    "\n",
    "# 点积\n",
    "print(torch.dot(vec1, vec2))\n",
    "print(vec1.dot(vec2))\n",
    "# 叉积（需要同维度才能进行内积）\n",
    "print(torch.cross(vec1, vec2))\n",
    "print(vec1.cross(vec2))\n",
    "\n",
    "# 外积使用numpy中的outer"
   ]
  },
  {
   "cell_type": "code",
   "execution_count": 26,
   "metadata": {
    "ExecuteTime": {
     "end_time": "2020-06-08T03:50:26.583888Z",
     "start_time": "2020-06-08T03:50:26.575558Z"
    }
   },
   "outputs": [
    {
     "name": "stdout",
     "output_type": "stream",
     "text": [
      "[0.4868679  0.10524797 0.5883371 ]\n",
      "[0.11612642 0.49485415 0.28235406]\n",
      "0.27473998\n",
      "0.27473998\n",
      "[-0.2614239  -0.06914765  0.22870654]\n"
     ]
    }
   ],
   "source": [
    "vec1 = vec1.numpy()\n",
    "vec2 = vec2.numpy()\n",
    "print(vec1)\n",
    "print(vec2)\n",
    "\n",
    "# 点积\n",
    "print(np.dot(vec1, vec2))\n",
    "print(vec1.dot(vec2))\n",
    "# 外积\n",
    "print(np.cross(vec1, vec2))"
   ]
  },
  {
   "cell_type": "markdown",
   "metadata": {},
   "source": [
    "# Variable"
   ]
  },
  {
   "cell_type": "markdown",
   "metadata": {},
   "source": [
    "Variable是对tensor的封装，操作和tensor是一样的，但是每个Variable都有三个属性，Variable中的tensor本身`.data`，对应tensor的梯度`.grad`以及Variable是通过什么方式得到的`.grad_fn`\n",
    "- 仅改变.data，并不会被记录到计算图中\n",
    "- 新单独创建的向量通常.grad_fn都是None"
   ]
  },
  {
   "cell_type": "code",
   "execution_count": 6,
   "metadata": {
    "ExecuteTime": {
     "end_time": "2019-12-11T02:44:29.174432Z",
     "start_time": "2019-12-11T02:44:29.158682Z"
    }
   },
   "outputs": [],
   "source": [
    "from torch.autograd import Variable"
   ]
  },
  {
   "cell_type": "code",
   "execution_count": 16,
   "metadata": {
    "ExecuteTime": {
     "end_time": "2019-12-11T02:49:29.892352Z",
     "start_time": "2019-12-11T02:49:29.886338Z"
    }
   },
   "outputs": [],
   "source": [
    "x_tensor = torch.randn(5, 10)\n",
    "y_tensor = torch.randn(5, 10)\n",
    "\n",
    "# 将tensor变为variable\n",
    "# 默认Variable是不求梯度的，required_grad是用来申明需要对其求梯度\n",
    "x = Variable(x_tensor, requires_grad=True)\n",
    "y = Variable(y_tensor, requires_grad=True)"
   ]
  },
  {
   "cell_type": "code",
   "execution_count": 17,
   "metadata": {
    "ExecuteTime": {
     "end_time": "2019-12-11T02:49:32.121793Z",
     "start_time": "2019-12-11T02:49:32.111798Z"
    }
   },
   "outputs": [
    {
     "data": {
      "text/plain": [
       "tensor(-10.2891, grad_fn=<SumBackward0>)"
      ]
     },
     "execution_count": 17,
     "metadata": {},
     "output_type": "execute_result"
    }
   ],
   "source": [
    "z = torch.sum(x+y)\n",
    "z"
   ]
  },
  {
   "cell_type": "code",
   "execution_count": 18,
   "metadata": {
    "ExecuteTime": {
     "end_time": "2019-12-11T02:49:44.384903Z",
     "start_time": "2019-12-11T02:49:44.375909Z"
    }
   },
   "outputs": [
    {
     "data": {
      "text/plain": [
       "tensor(-10.2891)"
      ]
     },
     "execution_count": 18,
     "metadata": {},
     "output_type": "execute_result"
    },
    {
     "data": {
      "text/plain": [
       "<SumBackward0 object at 0x00000246FB78C160>"
      ]
     },
     "execution_count": 18,
     "metadata": {},
     "output_type": "execute_result"
    }
   ],
   "source": [
    "# tensor本身的数据\n",
    "z.data\n",
    "# variable的获取方式---通过sun这种方式得到的\n",
    "z.grad_fn"
   ]
  },
  {
   "cell_type": "code",
   "execution_count": 19,
   "metadata": {
    "ExecuteTime": {
     "end_time": "2019-12-11T02:51:02.557803Z",
     "start_time": "2019-12-11T02:51:02.039731Z"
    }
   },
   "outputs": [
    {
     "data": {
      "text/plain": [
       "tensor([[1., 1., 1., 1., 1., 1., 1., 1., 1., 1.],\n",
       "        [1., 1., 1., 1., 1., 1., 1., 1., 1., 1.],\n",
       "        [1., 1., 1., 1., 1., 1., 1., 1., 1., 1.],\n",
       "        [1., 1., 1., 1., 1., 1., 1., 1., 1., 1.],\n",
       "        [1., 1., 1., 1., 1., 1., 1., 1., 1., 1.]])"
      ]
     },
     "execution_count": 19,
     "metadata": {},
     "output_type": "execute_result"
    },
    {
     "data": {
      "text/plain": [
       "tensor([[1., 1., 1., 1., 1., 1., 1., 1., 1., 1.],\n",
       "        [1., 1., 1., 1., 1., 1., 1., 1., 1., 1.],\n",
       "        [1., 1., 1., 1., 1., 1., 1., 1., 1., 1.],\n",
       "        [1., 1., 1., 1., 1., 1., 1., 1., 1., 1.],\n",
       "        [1., 1., 1., 1., 1., 1., 1., 1., 1., 1.]])"
      ]
     },
     "execution_count": 19,
     "metadata": {},
     "output_type": "execute_result"
    }
   ],
   "source": [
    "# 求x和y的梯度\n",
    "# 反向传播\n",
    "z.backward()\n",
    "\n",
    "x.grad\n",
    "y.grad"
   ]
  },
  {
   "cell_type": "markdown",
   "metadata": {},
   "source": [
    "构建一个函数$y = x^2$，然后求$x = 2$的导数"
   ]
  },
  {
   "cell_type": "code",
   "execution_count": 25,
   "metadata": {
    "ExecuteTime": {
     "end_time": "2019-12-11T02:54:22.855384Z",
     "start_time": "2019-12-11T02:54:22.551619Z"
    }
   },
   "outputs": [
    {
     "data": {
      "text/plain": [
       "[<matplotlib.lines.Line2D object at 0x00000246FC49EC18>]"
      ]
     },
     "execution_count": 25,
     "metadata": {},
     "output_type": "execute_result"
    },
    {
     "data": {
      "text/plain": [
       "[<matplotlib.lines.Line2D object at 0x00000246FC47BBE0>]"
      ]
     },
     "execution_count": 25,
     "metadata": {},
     "output_type": "execute_result"
    },
    {
     "data": {
      "image/png": "[encoded data removed]",
      "text/plain": [
       "<Figure size 432x288 with 1 Axes>"
      ]
     },
     "metadata": {
      "needs_background": "light"
     },
     "output_type": "display_data"
    }
   ],
   "source": [
    "import matplotlib.pyplot as plt\n",
    "x = np.arange(-3, 3.01, 0.01)\n",
    "y = x**2\n",
    "plt.plot(x, y)\n",
    "plt.plot(2, 2**2, \"ro\")"
   ]
  },
  {
   "cell_type": "code",
   "execution_count": 33,
   "metadata": {
    "ExecuteTime": {
     "end_time": "2019-12-11T02:58:06.159533Z",
     "start_time": "2019-12-11T02:58:06.150536Z"
    }
   },
   "outputs": [
    {
     "data": {
      "text/plain": [
       "tensor(4.)"
      ]
     },
     "execution_count": 33,
     "metadata": {},
     "output_type": "execute_result"
    }
   ],
   "source": [
    "# 自动求导的机制\n",
    "x = Variable(torch.tensor(2).float(), requires_grad=True)\n",
    "y = x**2\n",
    "\n",
    "# 反向传播\n",
    "y.backward()\n",
    "# x的梯度\n",
    "x.grad"
   ]
  },
  {
   "cell_type": "markdown",
   "metadata": {},
   "source": [
    "## to"
   ]
  },
  {
   "cell_type": "markdown",
   "metadata": {},
   "source": [
    "可以通过`to()`的方法将tensor在CPU和GPU之间进行移动"
   ]
  },
  {
   "cell_type": "code",
   "execution_count": 66,
   "metadata": {
    "ExecuteTime": {
     "end_time": "2020-09-11T00:39:19.647616Z",
     "start_time": "2020-09-11T00:39:19.619607Z"
    }
   },
   "outputs": [
    {
     "name": "stdout",
     "output_type": "stream",
     "text": [
      "tensor([[1.5375, 1.9418, 1.1698, 1.0949],\n",
      "        [1.0644, 1.0379, 1.7579, 1.4853],\n",
      "        [1.7062, 1.1835, 1.2382, 1.3101],\n",
      "        [1.4244, 1.7042, 1.0733, 1.1963],\n",
      "        [1.4407, 1.0551, 1.0785, 1.9940]], device='cuda:0')\n",
      "tensor([[1.5375, 1.9418, 1.1698, 1.0949],\n",
      "        [1.0644, 1.0379, 1.7579, 1.4853],\n",
      "        [1.7062, 1.1835, 1.2382, 1.3101],\n",
      "        [1.4244, 1.7042, 1.0733, 1.1963],\n",
      "        [1.4407, 1.0551, 1.0785, 1.9940]], dtype=torch.float64)\n"
     ]
    }
   ],
   "source": [
    "if torch.cuda.is_available():\n",
    "    device = torch.device(\"cuda\")\n",
    "    x = torch.rand(5, 4, device = device)\n",
    "    y = torch.ones_like(x, device = device)\n",
    "    z = x + y\n",
    "    print(z)\n",
    "    print(z.to(\"cpu\", dtype = torch.double))"
   ]
  },
  {
   "cell_type": "markdown",
   "metadata": {
    "ExecuteTime": {
     "end_time": "2020-09-11T00:38:50.458313Z",
     "start_time": "2020-09-11T00:38:50.447825Z"
    }
   },
   "source": [
    "## autograd"
   ]
  },
  {
   "cell_type": "markdown",
   "metadata": {},
   "source": [
    "python提供的autograd能够根据输入和feed forward过程自动构建计算图，并执行反向传播\n",
    "- 将`.requires_grad`设置为true，将开始记录计算图\n",
    "- 调用`.backward()`来完成所有的梯度计算，此时tensor的梯度累计到.grad中\n",
    "- 如果不想被追踪，可以调用`.detach()`来将其从追踪记录中分离出来，也可以使用with torch.no_grad()来将不想被追踪的代码包裹起来"
   ]
  },
  {
   "cell_type": "markdown",
   "metadata": {},
   "source": [
    "在y.backward()中y是标量时，则不用为backward()传入任何参数，否则传入一个和y同形的tensor\n",
    "- 这是为避免向量（或者更高维的向量）对向量进行求导\n",
    "- y是由x计算而来，y和w是同形的向量，y.backward(w)的含义是先计算`l = torch.sum(y*w)`，然后l再对x求偏导数\n",
    "- grad在反向传播的过程是累加的，所以一般在反向传播之前把梯度清零\n",
    "    - 可以使用x.grad.data.zero_()来清零梯度"
   ]
  },
  {
   "cell_type": "markdown",
   "metadata": {
    "ExecuteTime": {
     "end_time": "2020-09-11T00:56:23.825647Z",
     "start_time": "2020-09-11T00:56:23.820978Z"
    }
   },
   "source": [
    "Function是一个重要的类，tensor和Function结合可以构成记录整个计算过程的有向无环图（DAG)\n",
    "- 需要确保`requires_grad = True`才有grad_fn属性\n",
    "- 每个tensor都有一个.grad_fn属性，该属性创建tensor的Function\n",
    "- 可以使用requires_grad_()的in_place方式来改变requires_grad属性"
   ]
  },
  {
   "cell_type": "markdown",
   "metadata": {},
   "source": [
    "### grad_fn"
   ]
  },
  {
   "cell_type": "code",
   "execution_count": 13,
   "metadata": {
    "ExecuteTime": {
     "end_time": "2020-09-27T02:27:21.112068Z",
     "start_time": "2020-09-27T02:27:21.106126Z"
    }
   },
   "outputs": [],
   "source": [
    "import torch\n",
    "from torch.autograd import Variable"
   ]
  },
  {
   "cell_type": "code",
   "execution_count": 14,
   "metadata": {
    "ExecuteTime": {
     "end_time": "2020-09-27T02:28:42.798394Z",
     "start_time": "2020-09-27T02:28:42.784018Z"
    }
   },
   "outputs": [
    {
     "name": "stdout",
     "output_type": "stream",
     "text": [
      "tensor([[1., 1.],\n",
      "        [1., 1.]], requires_grad=True)\n",
      "None\n",
      "True\n"
     ]
    }
   ],
   "source": [
    "x = torch.ones(2, 2, requires_grad = True)\n",
    "print(x)\n",
    "# 单独创建的tensor的grad_fn属性为None，因为它相当于叶子节点\n",
    "print(x.grad_fn)\n",
    "# 单独创建的tensor为叶子节点\n",
    "print(x.is_leaf)"
   ]
  },
  {
   "cell_type": "code",
   "execution_count": 15,
   "metadata": {
    "ExecuteTime": {
     "end_time": "2020-09-27T02:30:30.654445Z",
     "start_time": "2020-09-27T02:30:30.640924Z"
    }
   },
   "outputs": [
    {
     "name": "stdout",
     "output_type": "stream",
     "text": [
      "tensor([[3., 3.],\n",
      "        [3., 3.]], grad_fn=<AddBackward0>)\n",
      "<AddBackward0 object at 0x7fad7465ac10>\n",
      "False\n"
     ]
    }
   ],
   "source": [
    "y = x + 2\n",
    "print(y)\n",
    "# 非叶子节点中，grad_fn记录了该tensor是通过了什么操作得来的\n",
    "# 此处y是通过加法而来的\n",
    "print(y.grad_fn)\n",
    "print(y.is_leaf)"
   ]
  },
  {
   "cell_type": "code",
   "execution_count": 18,
   "metadata": {
    "ExecuteTime": {
     "end_time": "2020-09-27T02:38:45.589761Z",
     "start_time": "2020-09-27T02:38:45.581886Z"
    }
   },
   "outputs": [
    {
     "name": "stdout",
     "output_type": "stream",
     "text": [
      "tensor([[27., 27.],\n",
      "        [27., 27.]], grad_fn=<MulBackward0>) tensor(27., grad_fn=<MeanBackward0>)\n"
     ]
    }
   ],
   "source": [
    "# 有梯度的tensor进行运算会自动得到有梯度的东西\n",
    "z = y * y * 3\n",
    "out = z.mean()\n",
    "print(z, out)"
   ]
  },
  {
   "cell_type": "markdown",
   "metadata": {},
   "source": [
    "### requires_grad"
   ]
  },
  {
   "cell_type": "markdown",
   "metadata": {},
   "source": [
    "`requires_grad`缺失情况下是没有梯度的，可以使用in_place的方式`requires_grad_()`来改变"
   ]
  },
  {
   "cell_type": "code",
   "execution_count": 19,
   "metadata": {
    "ExecuteTime": {
     "end_time": "2020-09-27T02:42:07.357235Z",
     "start_time": "2020-09-27T02:42:07.346279Z"
    }
   },
   "outputs": [
    {
     "name": "stdout",
     "output_type": "stream",
     "text": [
      "False\n"
     ]
    },
    {
     "data": {
      "text/plain": [
       "tensor([[-0.1204, -5.6296],\n",
       "        [-0.4522, -0.7840]], requires_grad=True)"
      ]
     },
     "execution_count": 19,
     "metadata": {},
     "output_type": "execute_result"
    },
    {
     "name": "stdout",
     "output_type": "stream",
     "text": [
      "True\n",
      "<SumBackward0 object at 0x7fad7465a3d0>\n"
     ]
    }
   ],
   "source": [
    "a = torch.rand(2, 2)\n",
    "a = ((a * 3)/(a - 1))\n",
    "print(a.requires_grad)\n",
    "# 通过in_place的方式来增加梯度\n",
    "a.requires_grad_(True)\n",
    "print(a.requires_grad)\n",
    "b = (a * a).sum()\n",
    "print(b.grad_fn)"
   ]
  },
  {
   "cell_type": "markdown",
   "metadata": {},
   "source": [
    "pytorch规定反向传播时必须要标量，如果对矩阵进行backward，需要传入一个和矩阵同形状的矩阵，使其化为标量"
   ]
  },
  {
   "cell_type": "code",
   "execution_count": 21,
   "metadata": {
    "ExecuteTime": {
     "end_time": "2020-09-27T02:46:06.250483Z",
     "start_time": "2020-09-27T02:46:06.245726Z"
    }
   },
   "outputs": [
    {
     "name": "stdout",
     "output_type": "stream",
     "text": [
      "tensor([[4.5000, 4.5000],\n",
      "        [4.5000, 4.5000]])\n"
     ]
    }
   ],
   "source": [
    "# 反向传播\n",
    "# 其实相当于out.backward(torch.tensor(1))\n",
    "out.backward()\n",
    "\n",
    "# out = mean(3*((x+2)**2))\n",
    "# x元素的初始值为1\n",
    "# 求x的梯度\n",
    "print(x.grad)"
   ]
  },
  {
   "cell_type": "markdown",
   "metadata": {},
   "source": [
    "### 梯度清零"
   ]
  },
  {
   "cell_type": "markdown",
   "metadata": {},
   "source": [
    "`autograd`是通过计算雅可比行列式来计算相关的梯度\n",
    "- 由于梯度是累加的，在开始新一轮的iteration需要将梯度清零"
   ]
  },
  {
   "cell_type": "code",
   "execution_count": 23,
   "metadata": {
    "ExecuteTime": {
     "end_time": "2020-09-27T02:55:13.975892Z",
     "start_time": "2020-09-27T02:55:13.966494Z"
    }
   },
   "outputs": [
    {
     "name": "stdout",
     "output_type": "stream",
     "text": [
      "tensor([[5.5000, 5.5000],\n",
      "        [5.5000, 5.5000]])\n"
     ]
    },
    {
     "data": {
      "text/plain": [
       "tensor([[0., 0.],\n",
       "        [0., 0.]])"
      ]
     },
     "execution_count": 23,
     "metadata": {},
     "output_type": "execute_result"
    },
    {
     "name": "stdout",
     "output_type": "stream",
     "text": [
      "tensor([[1., 1.],\n",
      "        [1., 1.]])\n"
     ]
    }
   ],
   "source": [
    "# 之前累加的梯度为[[4.5, 4.5], [4.5, 4.5]]\n",
    "out2 = x.sum()\n",
    "out2.backward()\n",
    "# 梯度累加，准确的梯度应该是[[1, 1], [1, 1]]\n",
    "print(x.grad)\n",
    "\n",
    "out3 = x.sum()\n",
    "# 梯度清零(in_place的方式)\n",
    "x.grad.data.zero_()\n",
    "out3.backward()\n",
    "print(x.grad)"
   ]
  },
  {
   "cell_type": "markdown",
   "metadata": {},
   "source": [
    "### 反向传播的那点事"
   ]
  },
  {
   "cell_type": "markdown",
   "metadata": {},
   "source": [
    "pytorch不允许张量对张量求导，只允许标量对张量求导，求导结果是和自变量同形状的张量（分母布局）\n",
    "- y是由x计算而来，y和w是同形的向量，y.backward(w)的含义是先计算`l = torch.sum(y*w)`，然后l再对x求偏导数\n",
    "- 只有浮点数类型才能算梯度"
   ]
  },
  {
   "cell_type": "markdown",
   "metadata": {
    "ExecuteTime": {
     "end_time": "2020-09-27T03:07:28.129840Z",
     "start_time": "2020-09-27T03:07:28.118316Z"
    }
   },
   "source": [
    "\\begin{equation}\n",
    "z = 2x \\\\\n",
    "l = \\sum{zv} \\\\\n",
    "\\frac{\\partial{l}}{\\partial {x}} = 2v\n",
    "\\end{equation}"
   ]
  },
  {
   "cell_type": "markdown",
   "metadata": {},
   "source": [
    "所以计算x的梯度，结果应该为v向量的2倍"
   ]
  },
  {
   "cell_type": "code",
   "execution_count": 25,
   "metadata": {
    "ExecuteTime": {
     "end_time": "2020-09-27T03:05:25.788011Z",
     "start_time": "2020-09-27T03:05:25.780577Z"
    }
   },
   "outputs": [
    {
     "name": "stdout",
     "output_type": "stream",
     "text": [
      "tensor([[2., 4.],\n",
      "        [6., 8.]], grad_fn=<ViewBackward>)\n",
      "tensor([[0.3287, 0.8333],\n",
      "        [0.8172, 0.9752]])\n",
      "tensor([0.6573, 1.6667, 1.6344, 1.9504])\n"
     ]
    }
   ],
   "source": [
    "x = torch.tensor([1, 2, 3, 4], requires_grad = True, dtype = torch.float)\n",
    "y = 2 * x\n",
    "# 改变视图，其实并没有改变梯度\n",
    "z = y.view(2, 2)\n",
    "print(z)\n",
    "\n",
    "# 反向传播，传入一个和z同形状的向量\n",
    "v = torch.rand(2, 2)\n",
    "print(v)\n",
    "z.backward(v)\n",
    "print(x.grad)"
   ]
  },
  {
   "cell_type": "markdown",
   "metadata": {},
   "source": [
    "### 梯度中断"
   ]
  },
  {
   "cell_type": "markdown",
   "metadata": {},
   "source": [
    "使用`with torch.no_grad`会中断梯度，使得梯度不会回传"
   ]
  },
  {
   "cell_type": "code",
   "execution_count": 36,
   "metadata": {
    "ExecuteTime": {
     "end_time": "2020-09-27T03:19:56.232926Z",
     "start_time": "2020-09-27T03:19:56.217716Z"
    }
   },
   "outputs": [
    {
     "name": "stdout",
     "output_type": "stream",
     "text": [
      "True\n",
      "tensor(1., grad_fn=<PowBackward0>) True\n",
      "tensor(1.) False\n",
      "tensor(2., grad_fn=<AddBackward0>) True\n"
     ]
    }
   ],
   "source": [
    "# 浮点类型才能使用梯度，所以torch.tensor(1, requires_grad=True)会报错\n",
    "x = torch.tensor(1., requires_grad = True)\n",
    "y1 = x ** 2\n",
    "# 使用torch.no_grad中断梯度，反向传播回传时不会传到y2中\n",
    "with torch.no_grad():\n",
    "    y2 = x ** 3\n",
    "    \n",
    "# 只要其中一个部分有梯度，计算出来的tensor都会有梯度\n",
    "y3 = y1 + y2\n",
    "\n",
    "print(x.requires_grad)\n",
    "print(y1, y1.requires_grad)\n",
    "print(y2, y2.requires_grad)\n",
    "print(y3, y3.requires_grad)"
   ]
  },
  {
   "cell_type": "code",
   "execution_count": 37,
   "metadata": {
    "ExecuteTime": {
     "end_time": "2020-09-27T03:20:00.349050Z",
     "start_time": "2020-09-27T03:20:00.339200Z"
    }
   },
   "outputs": [
    {
     "name": "stdout",
     "output_type": "stream",
     "text": [
      "tensor(2.)\n"
     ]
    }
   ],
   "source": [
    "# 梯度中断后，反向传播被阻止\n",
    "# 每次iteration时backward只能使用一次，因为使用后结果就会被释放\n",
    "y3.backward()\n",
    "\n",
    "# 根据求导可知x.grad = 2x + 3x，前者是y1, 后者是y2求偏导数的结果\n",
    "print(x.grad)"
   ]
  },
  {
   "cell_type": "code",
   "execution_count": 38,
   "metadata": {
    "ExecuteTime": {
     "end_time": "2020-09-27T03:20:45.823154Z",
     "start_time": "2020-09-27T03:20:45.806773Z"
    }
   },
   "outputs": [
    {
     "name": "stdout",
     "output_type": "stream",
     "text": [
      "True\n",
      "tensor(1., grad_fn=<PowBackward0>) True\n",
      "tensor(1., grad_fn=<PowBackward0>) True\n",
      "tensor(2., grad_fn=<AddBackward0>) True\n",
      "tensor(5.)\n"
     ]
    }
   ],
   "source": [
    "# 浮点类型才能使用梯度，所以torch.tensor(1, requires_grad=True)会报错\n",
    "x = torch.tensor(1., requires_grad = True)\n",
    "y1 = x ** 2\n",
    "# 不使用torch.no_grad中断梯度，反向传播回传时会传到y2中\n",
    "y2 = x ** 3\n",
    "    \n",
    "# 只要其中一个部分有梯度，计算出来的tensor都会有梯度\n",
    "y3 = y1 + y2\n",
    "\n",
    "print(x.requires_grad)\n",
    "print(y1, y1.requires_grad)\n",
    "print(y2, y2.requires_grad)\n",
    "print(y3, y3.requires_grad)\n",
    "\n",
    "y3.backward()\n",
    "print(x.grad)"
   ]
  },
  {
   "cell_type": "markdown",
   "metadata": {},
   "source": [
    "### 不被记录图记录修改值方式"
   ]
  },
  {
   "cell_type": "markdown",
   "metadata": {},
   "source": [
    "使用`tensor.data`对`tensor`的数值进行修改，同时不被`autograd`记录"
   ]
  },
  {
   "cell_type": "code",
   "execution_count": 42,
   "metadata": {
    "ExecuteTime": {
     "end_time": "2020-09-27T03:38:53.504613Z",
     "start_time": "2020-09-27T03:38:53.495589Z"
    }
   },
   "outputs": [
    {
     "name": "stdout",
     "output_type": "stream",
     "text": [
      "tensor([1.])\n",
      "False\n",
      "tensor([100.], requires_grad=True)\n",
      "tensor([2.])\n"
     ]
    }
   ],
   "source": [
    "x = torch.ones(1, requires_grad=True)\n",
    "\n",
    "# 给出的是一个tensor\n",
    "print(x.data)\n",
    "print(x.data.requires_grad)\n",
    "\n",
    "y = 2 * x\n",
    "# 这种改变值的方式不会记录在计算图中，不会影响梯度传播\n",
    "x.data *= 100\n",
    "\n",
    "y.backward()\n",
    "print(x)\n",
    "# 如果修改了梯度，结果应该为200，否则为2\n",
    "print(x.grad)"
   ]
  }
 ],
 "metadata": {
  "kernelspec": {
   "display_name": "Python 3",
   "language": "python",
   "name": "python3"
  },
  "language_info": {
   "codemirror_mode": {
    "name": "ipython",
    "version": 3
   },
   "file_extension": ".py",
   "mimetype": "text/x-python",
   "name": "python",
   "nbconvert_exporter": "python",
   "pygments_lexer": "ipython3",
   "version": "3.8.3"
  },
  "toc": {
   "base_numbering": 1,
   "nav_menu": {},
   "number_sections": true,
   "sideBar": true,
   "skip_h1_title": false,
   "title_cell": "Table of Contents",
   "title_sidebar": "Contents",
   "toc_cell": false,
   "toc_position": {
    "height": "calc(100% - 180px)",
    "left": "10px",
    "top": "150px",
    "width": "273.174px"
   },
   "toc_section_display": true,
   "toc_window_display": true
  }
 },
 "nbformat": 4,
 "nbformat_minor": 2
}
