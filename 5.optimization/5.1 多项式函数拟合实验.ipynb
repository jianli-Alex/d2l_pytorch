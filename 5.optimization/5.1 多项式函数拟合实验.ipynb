{
 "cells": [
  {
   "cell_type": "code",
   "execution_count": 1,
   "metadata": {
    "ExecuteTime": {
     "end_time": "2020-10-05T14:12:08.561044Z",
     "start_time": "2020-10-05T14:12:08.533895Z"
    }
   },
   "outputs": [
    {
     "name": "stdout",
     "output_type": "stream",
     "text": [
      "Pretty printing has been turned OFF\n"
     ]
    }
   ],
   "source": [
    "%config ZMQInteractiveShell.ast_node_interactivity = \"all\"\n",
    "%pprint"
   ]
  },
  {
   "cell_type": "markdown",
   "metadata": {},
   "source": [
    "以多项式函数拟合来试验模型复杂度和训练数据集大小对欠拟合和过拟合的影响"
   ]
  },
  {
   "cell_type": "markdown",
   "metadata": {
    "ExecuteTime": {
     "end_time": "2020-10-05T12:55:40.173905Z",
     "start_time": "2020-10-05T12:55:40.170520Z"
    }
   },
   "source": [
    "$$y = 1.2x - 3.4x^2 + 5.6x^3 + 5 + \\epsilon$$"
   ]
  },
  {
   "cell_type": "code",
   "execution_count": 2,
   "metadata": {
    "ExecuteTime": {
     "end_time": "2020-10-05T14:12:09.480862Z",
     "start_time": "2020-10-05T14:12:09.468430Z"
    }
   },
   "outputs": [
    {
     "data": {
      "text/plain": [
       "'/home/jianli/Documents/study/DL/code/d2l_pytorch/5.optimization'"
      ]
     },
     "execution_count": 2,
     "metadata": {},
     "output_type": "execute_result"
    }
   ],
   "source": [
    "%pwd"
   ]
  },
  {
   "cell_type": "code",
   "execution_count": 3,
   "metadata": {
    "ExecuteTime": {
     "end_time": "2020-10-05T14:12:10.620978Z",
     "start_time": "2020-10-05T14:12:09.782318Z"
    }
   },
   "outputs": [
    {
     "ename": "TabError",
     "evalue": "inconsistent use of tabs and spaces in indentation (model_train.py, line 40)",
     "output_type": "error",
     "traceback": [
      "Traceback \u001b[0;36m(most recent call last)\u001b[0m:\n",
      "  File \u001b[1;32m\"/home/jianli/software/anacond3/lib/python3.8/site-packages/IPython/core/interactiveshell.py\"\u001b[0m, line \u001b[1;32m3417\u001b[0m, in \u001b[1;35mrun_code\u001b[0m\n    exec(code_obj, self.user_global_ns, self.user_ns)\n",
      "\u001b[0;36m  File \u001b[0;32m\"<ipython-input-3-e41407c036a2>\"\u001b[0;36m, line \u001b[0;32m6\u001b[0;36m, in \u001b[0;35m<module>\u001b[0;36m\u001b[0m\n\u001b[0;31m    from model_train import train_pytorch\u001b[0m\n",
      "\u001b[0;36m  File \u001b[0;32m\"../d2l_func/model_train.py\"\u001b[0;36m, line \u001b[0;32m40\u001b[0m\n\u001b[0;31m    if test_iter is not None:\u001b[0m\n\u001b[0m                             ^\u001b[0m\n\u001b[0;31mTabError\u001b[0m\u001b[0;31m:\u001b[0m inconsistent use of tabs and spaces in indentation\n"
     ]
    }
   ],
   "source": [
    "import sys\n",
    "import torch\n",
    "import torch.nn as nn\n",
    "import torch.utils.data as Data\n",
    "sys.path.append(\"../d2l_func/\")\n",
    "from model_train import train_pytorch"
   ]
  },
  {
   "cell_type": "markdown",
   "metadata": {},
   "source": [
    "## 生成数据集"
   ]
  },
  {
   "cell_type": "code",
   "execution_count": null,
   "metadata": {
    "ExecuteTime": {
     "end_time": "2020-10-05T14:10:28.869064Z",
     "start_time": "2020-10-05T14:10:28.355Z"
    }
   },
   "outputs": [],
   "source": [
    "data_num = 100\n",
    "true_w = torch.tensor([1.2, -3.4, 5.6]).view(-1, 1)\n",
    "true_b = torch.tensor([5]).view(-1, 1)\n",
    "\n",
    "# 训练集和测试集数据量都是100\n",
    "torch.manual_seed(100)\n",
    "# x = torch.randn(size=data_num*2, 1)\n",
    "linear_feature = torch.normal(0, 1, size=(data_num*2, 1))\n",
    "poly_feature = torch.cat((linear_feature, linear_feature**2, linear_feature**3), dim=1)\n",
    "error = torch.normal(0, 0.01, size=(len(feature), 1))\n",
    "y = torch.mm(poly_feature, true_w) + true_b + error"
   ]
  },
  {
   "cell_type": "code",
   "execution_count": null,
   "metadata": {
    "ExecuteTime": {
     "end_time": "2020-10-05T14:10:28.871435Z",
     "start_time": "2020-10-05T14:10:28.546Z"
    }
   },
   "outputs": [],
   "source": [
    "# 看一下前两个数据样本\n",
    "x[:2]\n",
    "feature[:2]\n",
    "y[:2]"
   ]
  },
  {
   "cell_type": "markdown",
   "metadata": {},
   "source": [
    "## 正常拟合"
   ]
  },
  {
   "cell_type": "code",
   "execution_count": 5,
   "metadata": {
    "ExecuteTime": {
     "end_time": "2020-10-05T14:11:03.113016Z",
     "start_time": "2020-10-05T14:11:03.093670Z"
    }
   },
   "outputs": [],
   "source": [
    "class PolyModel(nn.Module):\n",
    "    def __init__(self, fea_num):\n",
    "        super(PolyModel, self).__init__()\n",
    "        self.layer = nn.Sequential(\n",
    "            nn.Linear(fea_num, 1)\n",
    "        )\n",
    "        \n",
    "    def forward(self, x):\n",
    "        return self.layer(x)"
   ]
  },
  {
   "cell_type": "code",
   "execution_count": 6,
   "metadata": {
    "ExecuteTime": {
     "end_time": "2020-10-05T14:11:03.694711Z",
     "start_time": "2020-10-05T14:11:03.680117Z"
    }
   },
   "outputs": [
    {
     "ename": "NameError",
     "evalue": "name 'poly_feature' is not defined",
     "output_type": "error",
     "traceback": [
      "\u001b[0;31m---------------------------------------------------------------------------\u001b[0m",
      "\u001b[0;31mNameError\u001b[0m                                 Traceback (most recent call last)",
      "\u001b[0;32m<ipython-input-6-24034a3d1ffb>\u001b[0m in \u001b[0;36m<module>\u001b[0;34m\u001b[0m\n\u001b[1;32m      1\u001b[0m \u001b[0;31m# define model and loss\u001b[0m\u001b[0;34m\u001b[0m\u001b[0;34m\u001b[0m\u001b[0;34m\u001b[0m\u001b[0m\n\u001b[0;32m----> 2\u001b[0;31m \u001b[0mmodel\u001b[0m \u001b[0;34m=\u001b[0m \u001b[0mPolyModel\u001b[0m\u001b[0;34m(\u001b[0m\u001b[0mpoly_feature\u001b[0m\u001b[0;34m.\u001b[0m\u001b[0mshape\u001b[0m\u001b[0;34m[\u001b[0m\u001b[0;36m1\u001b[0m\u001b[0;34m]\u001b[0m\u001b[0;34m)\u001b[0m\u001b[0;34m\u001b[0m\u001b[0;34m\u001b[0m\u001b[0m\n\u001b[0m\u001b[1;32m      3\u001b[0m \u001b[0mloss\u001b[0m \u001b[0;34m=\u001b[0m \u001b[0mnn\u001b[0m\u001b[0;34m.\u001b[0m\u001b[0mMSELoss\u001b[0m\u001b[0;34m(\u001b[0m\u001b[0;34m)\u001b[0m\u001b[0;34m\u001b[0m\u001b[0;34m\u001b[0m\u001b[0m\n\u001b[1;32m      4\u001b[0m \u001b[0;34m\u001b[0m\u001b[0m\n\u001b[1;32m      5\u001b[0m \u001b[0;31m# deal with data\u001b[0m\u001b[0;34m\u001b[0m\u001b[0;34m\u001b[0m\u001b[0;34m\u001b[0m\u001b[0m\n",
      "\u001b[0;31mNameError\u001b[0m: name 'poly_feature' is not defined"
     ]
    }
   ],
   "source": [
    "# define model and loss\n",
    "model = PolyModel(poly_feature.shape[1])\n",
    "loss = nn.MSELoss()\n",
    "\n",
    "# deal with data\n",
    "train_dataset = Data.TensorDataset(poly_feature[:100], y[:100])\n",
    "test_dataset = Data.TensorDataset(poly_feature[100:], y[100:])\n",
    "test_iter = Data.DataLoader(test_dataset, batch_size=len(y[:100]), shuffle=True)\n",
    "\n",
    "params = {\n",
    "    \"model\": model,\n",
    "    \"loss\": loss,\n",
    "    \"epoch_num\": 10,\n",
    "    \"batch_size\": 10,\n",
    "    \"lr\": 0.1,\n",
    "    \"data_num\": 100,\n",
    "}\n",
    "\n",
    "# 优化器\n",
    "optimizer = torch.optim.SGD(model.parameters(), lr=params[\"lr\"])\n",
    "train_iter = Data.DataLoader(train_dataset, batch_size=params[\"batch_size\"], shuffle=True)\n",
    "params[\"optimizer\"] = optimizer\n",
    "params[\"train_iter\"] = train_iter\n",
    "\n",
    "# training\n",
    "train_pytorch(**params)"
   ]
  },
  {
   "cell_type": "code",
   "execution_count": null,
   "metadata": {
    "ExecuteTime": {
     "end_time": "2020-10-05T14:10:29.196316Z",
     "start_time": "2020-10-05T14:10:29.183Z"
    }
   },
   "outputs": [],
   "source": [
    "train_pytorch??"
   ]
  },
  {
   "cell_type": "code",
   "execution_count": null,
   "metadata": {},
   "outputs": [],
   "source": []
  },
  {
   "cell_type": "code",
   "execution_count": null,
   "metadata": {},
   "outputs": [],
   "source": []
  },
  {
   "cell_type": "code",
   "execution_count": null,
   "metadata": {},
   "outputs": [],
   "source": []
  },
  {
   "cell_type": "code",
   "execution_count": null,
   "metadata": {},
   "outputs": [],
   "source": []
  }
 ],
 "metadata": {
  "kernelspec": {
   "display_name": "Python 3",
   "language": "python",
   "name": "python3"
  },
  "language_info": {
   "codemirror_mode": {
    "name": "ipython",
    "version": 3
   },
   "file_extension": ".py",
   "mimetype": "text/x-python",
   "name": "python",
   "nbconvert_exporter": "python",
   "pygments_lexer": "ipython3",
   "version": "3.8.3"
  },
  "toc": {
   "base_numbering": 1,
   "nav_menu": {},
   "number_sections": true,
   "sideBar": true,
   "skip_h1_title": false,
   "title_cell": "Table of Contents",
   "title_sidebar": "Contents",
   "toc_cell": false,
   "toc_position": {},
   "toc_section_display": true,
   "toc_window_display": false
  }
 },
 "nbformat": 4,
 "nbformat_minor": 4
}
